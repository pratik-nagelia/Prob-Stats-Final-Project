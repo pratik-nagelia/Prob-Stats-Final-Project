{
 "cells": [
  {
   "cell_type": "code",
   "execution_count": 67,
   "metadata": {},
   "outputs": [],
   "source": [
    "import pandas as pd\n",
    "import numpy as np\n",
    "import matplotlib.pyplot as plt"
   ]
  },
  {
   "cell_type": "markdown",
   "metadata": {},
   "source": [
    "# Inferencing Border Crossing Data with Covid Confirmed/ Death Cases for New York State"
   ]
  },
  {
   "cell_type": "markdown",
   "metadata": {},
   "source": [
    "# Reading Data"
   ]
  },
  {
   "cell_type": "code",
   "execution_count": 2,
   "metadata": {},
   "outputs": [],
   "source": [
    "master_us_confirmed = pd.read_csv('./data/US_confirmed.csv')\n",
    "master_us_death = pd.read_csv('./data/US_deaths.csv')\n",
    "master_ny_bordercrossing_data = pd.read_csv('./data/Monthly_Table_Full_Data_data.csv', encoding='UTF-16', sep='\\t')"
   ]
  },
  {
   "cell_type": "markdown",
   "metadata": {},
   "source": [
    "# Master US Confirmed Cases Dataset"
   ]
  },
  {
   "cell_type": "code",
   "execution_count": 3,
   "metadata": {},
   "outputs": [
    {
     "data": {
      "text/html": [
       "<div>\n",
       "<style scoped>\n",
       "    .dataframe tbody tr th:only-of-type {\n",
       "        vertical-align: middle;\n",
       "    }\n",
       "\n",
       "    .dataframe tbody tr th {\n",
       "        vertical-align: top;\n",
       "    }\n",
       "\n",
       "    .dataframe thead th {\n",
       "        text-align: right;\n",
       "    }\n",
       "</style>\n",
       "<table border=\"1\" class=\"dataframe\">\n",
       "  <thead>\n",
       "    <tr style=\"text-align: right;\">\n",
       "      <th></th>\n",
       "      <th>State</th>\n",
       "      <th>2020-01-22</th>\n",
       "      <th>2020-01-23</th>\n",
       "      <th>2020-01-24</th>\n",
       "      <th>2020-01-25</th>\n",
       "      <th>2020-01-26</th>\n",
       "      <th>2020-01-27</th>\n",
       "      <th>2020-01-28</th>\n",
       "      <th>2020-01-29</th>\n",
       "      <th>2020-01-30</th>\n",
       "      <th>...</th>\n",
       "      <th>2021-03-25</th>\n",
       "      <th>2021-03-26</th>\n",
       "      <th>2021-03-27</th>\n",
       "      <th>2021-03-28</th>\n",
       "      <th>2021-03-29</th>\n",
       "      <th>2021-03-30</th>\n",
       "      <th>2021-03-31</th>\n",
       "      <th>2021-04-01</th>\n",
       "      <th>2021-04-02</th>\n",
       "      <th>2021-04-03</th>\n",
       "    </tr>\n",
       "  </thead>\n",
       "  <tbody>\n",
       "    <tr>\n",
       "      <th>0</th>\n",
       "      <td>AK</td>\n",
       "      <td>0</td>\n",
       "      <td>0</td>\n",
       "      <td>0</td>\n",
       "      <td>0</td>\n",
       "      <td>0</td>\n",
       "      <td>0</td>\n",
       "      <td>0</td>\n",
       "      <td>0</td>\n",
       "      <td>0</td>\n",
       "      <td>...</td>\n",
       "      <td>59448</td>\n",
       "      <td>59627</td>\n",
       "      <td>59627</td>\n",
       "      <td>59627</td>\n",
       "      <td>59627</td>\n",
       "      <td>60248</td>\n",
       "      <td>60248</td>\n",
       "      <td>60628</td>\n",
       "      <td>60823</td>\n",
       "      <td>60823</td>\n",
       "    </tr>\n",
       "    <tr>\n",
       "      <th>1</th>\n",
       "      <td>AL</td>\n",
       "      <td>0</td>\n",
       "      <td>0</td>\n",
       "      <td>0</td>\n",
       "      <td>0</td>\n",
       "      <td>0</td>\n",
       "      <td>0</td>\n",
       "      <td>0</td>\n",
       "      <td>0</td>\n",
       "      <td>0</td>\n",
       "      <td>...</td>\n",
       "      <td>513161</td>\n",
       "      <td>513605</td>\n",
       "      <td>514098</td>\n",
       "      <td>514415</td>\n",
       "      <td>514642</td>\n",
       "      <td>515015</td>\n",
       "      <td>515423</td>\n",
       "      <td>515893</td>\n",
       "      <td>516309</td>\n",
       "      <td>516662</td>\n",
       "    </tr>\n",
       "    <tr>\n",
       "      <th>2</th>\n",
       "      <td>AR</td>\n",
       "      <td>0</td>\n",
       "      <td>0</td>\n",
       "      <td>0</td>\n",
       "      <td>0</td>\n",
       "      <td>0</td>\n",
       "      <td>0</td>\n",
       "      <td>0</td>\n",
       "      <td>0</td>\n",
       "      <td>0</td>\n",
       "      <td>...</td>\n",
       "      <td>329515</td>\n",
       "      <td>329700</td>\n",
       "      <td>329865</td>\n",
       "      <td>329934</td>\n",
       "      <td>330013</td>\n",
       "      <td>330188</td>\n",
       "      <td>330401</td>\n",
       "      <td>330611</td>\n",
       "      <td>330756</td>\n",
       "      <td>330972</td>\n",
       "    </tr>\n",
       "    <tr>\n",
       "      <th>3</th>\n",
       "      <td>AZ</td>\n",
       "      <td>0</td>\n",
       "      <td>0</td>\n",
       "      <td>0</td>\n",
       "      <td>0</td>\n",
       "      <td>1</td>\n",
       "      <td>1</td>\n",
       "      <td>1</td>\n",
       "      <td>1</td>\n",
       "      <td>1</td>\n",
       "      <td>...</td>\n",
       "      <td>838016</td>\n",
       "      <td>838719</td>\n",
       "      <td>839892</td>\n",
       "      <td>840492</td>\n",
       "      <td>840614</td>\n",
       "      <td>841192</td>\n",
       "      <td>841884</td>\n",
       "      <td>842273</td>\n",
       "      <td>843174</td>\n",
       "      <td>844328</td>\n",
       "    </tr>\n",
       "    <tr>\n",
       "      <th>4</th>\n",
       "      <td>CA</td>\n",
       "      <td>0</td>\n",
       "      <td>0</td>\n",
       "      <td>0</td>\n",
       "      <td>0</td>\n",
       "      <td>2</td>\n",
       "      <td>3</td>\n",
       "      <td>3</td>\n",
       "      <td>4</td>\n",
       "      <td>4</td>\n",
       "      <td>...</td>\n",
       "      <td>3563340</td>\n",
       "      <td>3564383</td>\n",
       "      <td>3564476</td>\n",
       "      <td>3564476</td>\n",
       "      <td>3564476</td>\n",
       "      <td>3564476</td>\n",
       "      <td>3564476</td>\n",
       "      <td>3570718</td>\n",
       "      <td>3573028</td>\n",
       "      <td>3577951</td>\n",
       "    </tr>\n",
       "  </tbody>\n",
       "</table>\n",
       "<p>5 rows × 439 columns</p>\n",
       "</div>"
      ],
      "text/plain": [
       "  State  2020-01-22  2020-01-23  2020-01-24  2020-01-25  2020-01-26  \\\n",
       "0    AK           0           0           0           0           0   \n",
       "1    AL           0           0           0           0           0   \n",
       "2    AR           0           0           0           0           0   \n",
       "3    AZ           0           0           0           0           1   \n",
       "4    CA           0           0           0           0           2   \n",
       "\n",
       "   2020-01-27  2020-01-28  2020-01-29  2020-01-30  ...  2021-03-25  \\\n",
       "0           0           0           0           0  ...       59448   \n",
       "1           0           0           0           0  ...      513161   \n",
       "2           0           0           0           0  ...      329515   \n",
       "3           1           1           1           1  ...      838016   \n",
       "4           3           3           4           4  ...     3563340   \n",
       "\n",
       "   2021-03-26  2021-03-27  2021-03-28  2021-03-29  2021-03-30  2021-03-31  \\\n",
       "0       59627       59627       59627       59627       60248       60248   \n",
       "1      513605      514098      514415      514642      515015      515423   \n",
       "2      329700      329865      329934      330013      330188      330401   \n",
       "3      838719      839892      840492      840614      841192      841884   \n",
       "4     3564383     3564476     3564476     3564476     3564476     3564476   \n",
       "\n",
       "   2021-04-01  2021-04-02  2021-04-03  \n",
       "0       60628       60823       60823  \n",
       "1      515893      516309      516662  \n",
       "2      330611      330756      330972  \n",
       "3      842273      843174      844328  \n",
       "4     3570718     3573028     3577951  \n",
       "\n",
       "[5 rows x 439 columns]"
      ]
     },
     "execution_count": 3,
     "metadata": {},
     "output_type": "execute_result"
    }
   ],
   "source": [
    "master_us_confirmed.head()"
   ]
  },
  {
   "cell_type": "markdown",
   "metadata": {},
   "source": [
    "# Master US Death Cases Dataset"
   ]
  },
  {
   "cell_type": "code",
   "execution_count": 4,
   "metadata": {},
   "outputs": [
    {
     "data": {
      "text/html": [
       "<div>\n",
       "<style scoped>\n",
       "    .dataframe tbody tr th:only-of-type {\n",
       "        vertical-align: middle;\n",
       "    }\n",
       "\n",
       "    .dataframe tbody tr th {\n",
       "        vertical-align: top;\n",
       "    }\n",
       "\n",
       "    .dataframe thead th {\n",
       "        text-align: right;\n",
       "    }\n",
       "</style>\n",
       "<table border=\"1\" class=\"dataframe\">\n",
       "  <thead>\n",
       "    <tr style=\"text-align: right;\">\n",
       "      <th></th>\n",
       "      <th>State</th>\n",
       "      <th>2020-01-22</th>\n",
       "      <th>2020-01-23</th>\n",
       "      <th>2020-01-24</th>\n",
       "      <th>2020-01-25</th>\n",
       "      <th>2020-01-26</th>\n",
       "      <th>2020-01-27</th>\n",
       "      <th>2020-01-28</th>\n",
       "      <th>2020-01-29</th>\n",
       "      <th>2020-01-30</th>\n",
       "      <th>...</th>\n",
       "      <th>2021-03-25</th>\n",
       "      <th>2021-03-26</th>\n",
       "      <th>2021-03-27</th>\n",
       "      <th>2021-03-28</th>\n",
       "      <th>2021-03-29</th>\n",
       "      <th>2021-03-30</th>\n",
       "      <th>2021-03-31</th>\n",
       "      <th>2021-04-01</th>\n",
       "      <th>2021-04-02</th>\n",
       "      <th>2021-04-03</th>\n",
       "    </tr>\n",
       "  </thead>\n",
       "  <tbody>\n",
       "    <tr>\n",
       "      <th>0</th>\n",
       "      <td>AK</td>\n",
       "      <td>0</td>\n",
       "      <td>0</td>\n",
       "      <td>0</td>\n",
       "      <td>0</td>\n",
       "      <td>0</td>\n",
       "      <td>0</td>\n",
       "      <td>0</td>\n",
       "      <td>0</td>\n",
       "      <td>0</td>\n",
       "      <td>...</td>\n",
       "      <td>298</td>\n",
       "      <td>298</td>\n",
       "      <td>298</td>\n",
       "      <td>298</td>\n",
       "      <td>298</td>\n",
       "      <td>298</td>\n",
       "      <td>298</td>\n",
       "      <td>298</td>\n",
       "      <td>298</td>\n",
       "      <td>298</td>\n",
       "    </tr>\n",
       "    <tr>\n",
       "      <th>1</th>\n",
       "      <td>AL</td>\n",
       "      <td>0</td>\n",
       "      <td>0</td>\n",
       "      <td>0</td>\n",
       "      <td>0</td>\n",
       "      <td>0</td>\n",
       "      <td>0</td>\n",
       "      <td>0</td>\n",
       "      <td>0</td>\n",
       "      <td>0</td>\n",
       "      <td>...</td>\n",
       "      <td>10511</td>\n",
       "      <td>10527</td>\n",
       "      <td>10530</td>\n",
       "      <td>10530</td>\n",
       "      <td>10530</td>\n",
       "      <td>10532</td>\n",
       "      <td>10558</td>\n",
       "      <td>10558</td>\n",
       "      <td>10611</td>\n",
       "      <td>10640</td>\n",
       "    </tr>\n",
       "    <tr>\n",
       "      <th>2</th>\n",
       "      <td>AR</td>\n",
       "      <td>0</td>\n",
       "      <td>0</td>\n",
       "      <td>0</td>\n",
       "      <td>0</td>\n",
       "      <td>0</td>\n",
       "      <td>0</td>\n",
       "      <td>0</td>\n",
       "      <td>0</td>\n",
       "      <td>0</td>\n",
       "      <td>...</td>\n",
       "      <td>5625</td>\n",
       "      <td>5636</td>\n",
       "      <td>5642</td>\n",
       "      <td>5646</td>\n",
       "      <td>5649</td>\n",
       "      <td>5661</td>\n",
       "      <td>5669</td>\n",
       "      <td>5678</td>\n",
       "      <td>5679</td>\n",
       "      <td>5681</td>\n",
       "    </tr>\n",
       "    <tr>\n",
       "      <th>3</th>\n",
       "      <td>AZ</td>\n",
       "      <td>0</td>\n",
       "      <td>0</td>\n",
       "      <td>0</td>\n",
       "      <td>0</td>\n",
       "      <td>0</td>\n",
       "      <td>0</td>\n",
       "      <td>0</td>\n",
       "      <td>0</td>\n",
       "      <td>0</td>\n",
       "      <td>...</td>\n",
       "      <td>16843</td>\n",
       "      <td>16900</td>\n",
       "      <td>16918</td>\n",
       "      <td>16918</td>\n",
       "      <td>16921</td>\n",
       "      <td>16942</td>\n",
       "      <td>16968</td>\n",
       "      <td>16979</td>\n",
       "      <td>16998</td>\n",
       "      <td>17005</td>\n",
       "    </tr>\n",
       "    <tr>\n",
       "      <th>4</th>\n",
       "      <td>CA</td>\n",
       "      <td>0</td>\n",
       "      <td>0</td>\n",
       "      <td>0</td>\n",
       "      <td>0</td>\n",
       "      <td>0</td>\n",
       "      <td>0</td>\n",
       "      <td>0</td>\n",
       "      <td>0</td>\n",
       "      <td>0</td>\n",
       "      <td>...</td>\n",
       "      <td>57336</td>\n",
       "      <td>57551</td>\n",
       "      <td>57746</td>\n",
       "      <td>57778</td>\n",
       "      <td>57778</td>\n",
       "      <td>57778</td>\n",
       "      <td>57778</td>\n",
       "      <td>58094</td>\n",
       "      <td>58271</td>\n",
       "      <td>58429</td>\n",
       "    </tr>\n",
       "  </tbody>\n",
       "</table>\n",
       "<p>5 rows × 439 columns</p>\n",
       "</div>"
      ],
      "text/plain": [
       "  State  2020-01-22  2020-01-23  2020-01-24  2020-01-25  2020-01-26  \\\n",
       "0    AK           0           0           0           0           0   \n",
       "1    AL           0           0           0           0           0   \n",
       "2    AR           0           0           0           0           0   \n",
       "3    AZ           0           0           0           0           0   \n",
       "4    CA           0           0           0           0           0   \n",
       "\n",
       "   2020-01-27  2020-01-28  2020-01-29  2020-01-30  ...  2021-03-25  \\\n",
       "0           0           0           0           0  ...         298   \n",
       "1           0           0           0           0  ...       10511   \n",
       "2           0           0           0           0  ...        5625   \n",
       "3           0           0           0           0  ...       16843   \n",
       "4           0           0           0           0  ...       57336   \n",
       "\n",
       "   2021-03-26  2021-03-27  2021-03-28  2021-03-29  2021-03-30  2021-03-31  \\\n",
       "0         298         298         298         298         298         298   \n",
       "1       10527       10530       10530       10530       10532       10558   \n",
       "2        5636        5642        5646        5649        5661        5669   \n",
       "3       16900       16918       16918       16921       16942       16968   \n",
       "4       57551       57746       57778       57778       57778       57778   \n",
       "\n",
       "   2021-04-01  2021-04-02  2021-04-03  \n",
       "0         298         298         298  \n",
       "1       10558       10611       10640  \n",
       "2        5678        5679        5681  \n",
       "3       16979       16998       17005  \n",
       "4       58094       58271       58429  \n",
       "\n",
       "[5 rows x 439 columns]"
      ]
     },
     "execution_count": 4,
     "metadata": {},
     "output_type": "execute_result"
    }
   ],
   "source": [
    "master_us_death.head()"
   ]
  },
  {
   "cell_type": "markdown",
   "metadata": {},
   "source": [
    "# Master Border Crossing Dataset"
   ]
  },
  {
   "cell_type": "code",
   "execution_count": 5,
   "metadata": {},
   "outputs": [
    {
     "data": {
      "text/html": [
       "<div>\n",
       "<style scoped>\n",
       "    .dataframe tbody tr th:only-of-type {\n",
       "        vertical-align: middle;\n",
       "    }\n",
       "\n",
       "    .dataframe tbody tr th {\n",
       "        vertical-align: top;\n",
       "    }\n",
       "\n",
       "    .dataframe thead th {\n",
       "        text-align: right;\n",
       "    }\n",
       "</style>\n",
       "<table border=\"1\" class=\"dataframe\">\n",
       "  <thead>\n",
       "    <tr style=\"text-align: right;\">\n",
       "      <th></th>\n",
       "      <th>Port Name</th>\n",
       "      <th>Measure</th>\n",
       "      <th>Year</th>\n",
       "      <th>Month of Date</th>\n",
       "      <th>Border</th>\n",
       "      <th>State</th>\n",
       "      <th>__Id</th>\n",
       "      <th>Date</th>\n",
       "      <th>Period (date)</th>\n",
       "      <th>Period (string)</th>\n",
       "      <th>Port</th>\n",
       "      <th>Port Code</th>\n",
       "      <th>Number of Records</th>\n",
       "      <th>Value</th>\n",
       "    </tr>\n",
       "  </thead>\n",
       "  <tbody>\n",
       "    <tr>\n",
       "      <th>0</th>\n",
       "      <td>Alexandria Bay</td>\n",
       "      <td>Bus Passengers</td>\n",
       "      <td>2020</td>\n",
       "      <td>January</td>\n",
       "      <td>US-Canada Border</td>\n",
       "      <td>New York</td>\n",
       "      <td>row-h9y2.9jia_t9wc</td>\n",
       "      <td>1/1/2020 12:00:00 AM</td>\n",
       "      <td>1/1/2020 12:00:00 AM</td>\n",
       "      <td>2020</td>\n",
       "      <td>Alexandria Bay, New York</td>\n",
       "      <td>708</td>\n",
       "      <td>1</td>\n",
       "      <td>1116</td>\n",
       "    </tr>\n",
       "    <tr>\n",
       "      <th>1</th>\n",
       "      <td>Buffalo Niagara Falls</td>\n",
       "      <td>Bus Passengers</td>\n",
       "      <td>2020</td>\n",
       "      <td>January</td>\n",
       "      <td>US-Canada Border</td>\n",
       "      <td>New York</td>\n",
       "      <td>row-gvb2-xbpg.y544</td>\n",
       "      <td>1/1/2020 12:00:00 AM</td>\n",
       "      <td>1/1/2020 12:00:00 AM</td>\n",
       "      <td>2020</td>\n",
       "      <td>Buffalo Niagara Falls, New York</td>\n",
       "      <td>901</td>\n",
       "      <td>1</td>\n",
       "      <td>15533</td>\n",
       "    </tr>\n",
       "    <tr>\n",
       "      <th>2</th>\n",
       "      <td>Champlain Rouses Point</td>\n",
       "      <td>Bus Passengers</td>\n",
       "      <td>2020</td>\n",
       "      <td>January</td>\n",
       "      <td>US-Canada Border</td>\n",
       "      <td>New York</td>\n",
       "      <td>row-5vdy_g9cq-s7xq</td>\n",
       "      <td>1/1/2020 12:00:00 AM</td>\n",
       "      <td>1/1/2020 12:00:00 AM</td>\n",
       "      <td>2020</td>\n",
       "      <td>Champlain Rouses Point, New York</td>\n",
       "      <td>712</td>\n",
       "      <td>1</td>\n",
       "      <td>11504</td>\n",
       "    </tr>\n",
       "    <tr>\n",
       "      <th>3</th>\n",
       "      <td>Massena</td>\n",
       "      <td>Bus Passengers</td>\n",
       "      <td>2020</td>\n",
       "      <td>January</td>\n",
       "      <td>US-Canada Border</td>\n",
       "      <td>New York</td>\n",
       "      <td>row-fgyx~g5h7-ruee</td>\n",
       "      <td>1/1/2020 12:00:00 AM</td>\n",
       "      <td>1/1/2020 12:00:00 AM</td>\n",
       "      <td>2020</td>\n",
       "      <td>Massena, New York</td>\n",
       "      <td>704</td>\n",
       "      <td>1</td>\n",
       "      <td>3095</td>\n",
       "    </tr>\n",
       "    <tr>\n",
       "      <th>4</th>\n",
       "      <td>Ogdensburg</td>\n",
       "      <td>Bus Passengers</td>\n",
       "      <td>2020</td>\n",
       "      <td>January</td>\n",
       "      <td>US-Canada Border</td>\n",
       "      <td>New York</td>\n",
       "      <td>row-4gs4_rwbj.vht2</td>\n",
       "      <td>1/1/2020 12:00:00 AM</td>\n",
       "      <td>1/1/2020 12:00:00 AM</td>\n",
       "      <td>2020</td>\n",
       "      <td>Ogdensburg, New York</td>\n",
       "      <td>701</td>\n",
       "      <td>1</td>\n",
       "      <td>236</td>\n",
       "    </tr>\n",
       "  </tbody>\n",
       "</table>\n",
       "</div>"
      ],
      "text/plain": [
       "                Port Name         Measure  Year Month of Date  \\\n",
       "0          Alexandria Bay  Bus Passengers  2020       January   \n",
       "1   Buffalo Niagara Falls  Bus Passengers  2020       January   \n",
       "2  Champlain Rouses Point  Bus Passengers  2020       January   \n",
       "3                 Massena  Bus Passengers  2020       January   \n",
       "4              Ogdensburg  Bus Passengers  2020       January   \n",
       "\n",
       "             Border     State                __Id                  Date  \\\n",
       "0  US-Canada Border  New York  row-h9y2.9jia_t9wc  1/1/2020 12:00:00 AM   \n",
       "1  US-Canada Border  New York  row-gvb2-xbpg.y544  1/1/2020 12:00:00 AM   \n",
       "2  US-Canada Border  New York  row-5vdy_g9cq-s7xq  1/1/2020 12:00:00 AM   \n",
       "3  US-Canada Border  New York  row-fgyx~g5h7-ruee  1/1/2020 12:00:00 AM   \n",
       "4  US-Canada Border  New York  row-4gs4_rwbj.vht2  1/1/2020 12:00:00 AM   \n",
       "\n",
       "          Period (date)  Period (string)                              Port  \\\n",
       "0  1/1/2020 12:00:00 AM             2020          Alexandria Bay, New York   \n",
       "1  1/1/2020 12:00:00 AM             2020   Buffalo Niagara Falls, New York   \n",
       "2  1/1/2020 12:00:00 AM             2020  Champlain Rouses Point, New York   \n",
       "3  1/1/2020 12:00:00 AM             2020                 Massena, New York   \n",
       "4  1/1/2020 12:00:00 AM             2020              Ogdensburg, New York   \n",
       "\n",
       "   Port Code  Number of Records  Value  \n",
       "0        708                  1   1116  \n",
       "1        901                  1  15533  \n",
       "2        712                  1  11504  \n",
       "3        704                  1   3095  \n",
       "4        701                  1    236  "
      ]
     },
     "execution_count": 5,
     "metadata": {},
     "output_type": "execute_result"
    }
   ],
   "source": [
    "master_ny_bordercrossing_data.head()"
   ]
  },
  {
   "cell_type": "markdown",
   "metadata": {},
   "source": [
    "# Extracting New York Data from the US master Data Set for Confirmed/ Death Cases"
   ]
  },
  {
   "cell_type": "code",
   "execution_count": 6,
   "metadata": {},
   "outputs": [
    {
     "data": {
      "text/html": [
       "<div>\n",
       "<style scoped>\n",
       "    .dataframe tbody tr th:only-of-type {\n",
       "        vertical-align: middle;\n",
       "    }\n",
       "\n",
       "    .dataframe tbody tr th {\n",
       "        vertical-align: top;\n",
       "    }\n",
       "\n",
       "    .dataframe thead th {\n",
       "        text-align: right;\n",
       "    }\n",
       "</style>\n",
       "<table border=\"1\" class=\"dataframe\">\n",
       "  <thead>\n",
       "    <tr style=\"text-align: right;\">\n",
       "      <th></th>\n",
       "      <th>Date</th>\n",
       "      <th>Confirmed Cases</th>\n",
       "    </tr>\n",
       "  </thead>\n",
       "  <tbody>\n",
       "    <tr>\n",
       "      <th>1</th>\n",
       "      <td>2020-01-22</td>\n",
       "      <td>0</td>\n",
       "    </tr>\n",
       "    <tr>\n",
       "      <th>2</th>\n",
       "      <td>2020-01-23</td>\n",
       "      <td>0</td>\n",
       "    </tr>\n",
       "    <tr>\n",
       "      <th>3</th>\n",
       "      <td>2020-01-24</td>\n",
       "      <td>0</td>\n",
       "    </tr>\n",
       "    <tr>\n",
       "      <th>4</th>\n",
       "      <td>2020-01-25</td>\n",
       "      <td>0</td>\n",
       "    </tr>\n",
       "    <tr>\n",
       "      <th>5</th>\n",
       "      <td>2020-01-26</td>\n",
       "      <td>0</td>\n",
       "    </tr>\n",
       "  </tbody>\n",
       "</table>\n",
       "</div>"
      ],
      "text/plain": [
       "        Date Confirmed Cases\n",
       "1 2020-01-22               0\n",
       "2 2020-01-23               0\n",
       "3 2020-01-24               0\n",
       "4 2020-01-25               0\n",
       "5 2020-01-26               0"
      ]
     },
     "execution_count": 6,
     "metadata": {},
     "output_type": "execute_result"
    }
   ],
   "source": [
    "ny_confirmed = master_us_confirmed.iloc[34]\n",
    "ny_confirmed = ny_confirmed.to_frame().reset_index().iloc[1:]\n",
    "ny_confirmed.columns = ['Date', 'Confirmed Cases']\n",
    "ny_confirmed['Date'] = pd.to_datetime(ny_confirmed['Date'])\n",
    "ny_confirmed.head()"
   ]
  },
  {
   "cell_type": "code",
   "execution_count": 7,
   "metadata": {},
   "outputs": [
    {
     "data": {
      "text/html": [
       "<div>\n",
       "<style scoped>\n",
       "    .dataframe tbody tr th:only-of-type {\n",
       "        vertical-align: middle;\n",
       "    }\n",
       "\n",
       "    .dataframe tbody tr th {\n",
       "        vertical-align: top;\n",
       "    }\n",
       "\n",
       "    .dataframe thead th {\n",
       "        text-align: right;\n",
       "    }\n",
       "</style>\n",
       "<table border=\"1\" class=\"dataframe\">\n",
       "  <thead>\n",
       "    <tr style=\"text-align: right;\">\n",
       "      <th></th>\n",
       "      <th>Date</th>\n",
       "      <th>Death Cases</th>\n",
       "    </tr>\n",
       "  </thead>\n",
       "  <tbody>\n",
       "    <tr>\n",
       "      <th>1</th>\n",
       "      <td>2020-01-22</td>\n",
       "      <td>0</td>\n",
       "    </tr>\n",
       "    <tr>\n",
       "      <th>2</th>\n",
       "      <td>2020-01-23</td>\n",
       "      <td>0</td>\n",
       "    </tr>\n",
       "    <tr>\n",
       "      <th>3</th>\n",
       "      <td>2020-01-24</td>\n",
       "      <td>0</td>\n",
       "    </tr>\n",
       "    <tr>\n",
       "      <th>4</th>\n",
       "      <td>2020-01-25</td>\n",
       "      <td>0</td>\n",
       "    </tr>\n",
       "    <tr>\n",
       "      <th>5</th>\n",
       "      <td>2020-01-26</td>\n",
       "      <td>0</td>\n",
       "    </tr>\n",
       "  </tbody>\n",
       "</table>\n",
       "</div>"
      ],
      "text/plain": [
       "        Date Death Cases\n",
       "1 2020-01-22           0\n",
       "2 2020-01-23           0\n",
       "3 2020-01-24           0\n",
       "4 2020-01-25           0\n",
       "5 2020-01-26           0"
      ]
     },
     "execution_count": 7,
     "metadata": {},
     "output_type": "execute_result"
    }
   ],
   "source": [
    "ny_deaths = master_us_death.iloc[34]\n",
    "ny_deaths = ny_deaths.to_frame().reset_index().iloc[1:]\n",
    "ny_deaths.columns = ['Date', 'Death Cases']\n",
    "ny_deaths['Date'] = pd.to_datetime(ny_deaths['Date'])\n",
    "ny_deaths.head()"
   ]
  },
  {
   "cell_type": "markdown",
   "metadata": {},
   "source": [
    "# Extracting Monthly Data Values from the Day "
   ]
  },
  {
   "cell_type": "code",
   "execution_count": 9,
   "metadata": {},
   "outputs": [
    {
     "data": {
      "text/html": [
       "<div>\n",
       "<style scoped>\n",
       "    .dataframe tbody tr th:only-of-type {\n",
       "        vertical-align: middle;\n",
       "    }\n",
       "\n",
       "    .dataframe tbody tr th {\n",
       "        vertical-align: top;\n",
       "    }\n",
       "\n",
       "    .dataframe thead th {\n",
       "        text-align: right;\n",
       "    }\n",
       "</style>\n",
       "<table border=\"1\" class=\"dataframe\">\n",
       "  <thead>\n",
       "    <tr style=\"text-align: right;\">\n",
       "      <th></th>\n",
       "      <th>Date</th>\n",
       "      <th>Confirmed Cases</th>\n",
       "    </tr>\n",
       "  </thead>\n",
       "  <tbody>\n",
       "    <tr>\n",
       "      <th>0</th>\n",
       "      <td>2020-02-01</td>\n",
       "      <td>0</td>\n",
       "    </tr>\n",
       "    <tr>\n",
       "      <th>1</th>\n",
       "      <td>2020-03-01</td>\n",
       "      <td>0</td>\n",
       "    </tr>\n",
       "    <tr>\n",
       "      <th>2</th>\n",
       "      <td>2020-04-01</td>\n",
       "      <td>82133</td>\n",
       "    </tr>\n",
       "    <tr>\n",
       "      <th>3</th>\n",
       "      <td>2020-05-01</td>\n",
       "      <td>308383</td>\n",
       "    </tr>\n",
       "    <tr>\n",
       "      <th>4</th>\n",
       "      <td>2020-06-01</td>\n",
       "      <td>371780</td>\n",
       "    </tr>\n",
       "  </tbody>\n",
       "</table>\n",
       "</div>"
      ],
      "text/plain": [
       "        Date Confirmed Cases\n",
       "0 2020-02-01               0\n",
       "1 2020-03-01               0\n",
       "2 2020-04-01           82133\n",
       "3 2020-05-01          308383\n",
       "4 2020-06-01          371780"
      ]
     },
     "execution_count": 9,
     "metadata": {},
     "output_type": "execute_result"
    }
   ],
   "source": [
    "dates = ['2020-01-01','2020-02-01','2020-03-01','2020-04-01','2020-05-01','2020-06-01','2020-07-01','2020-08-01','2020-09-01','2020-10-01','2020-11-01','2020-12-01','2021-01-01','2021-02-01','2021-03-01','2021-04-01']\n",
    "\n",
    "ny_confirmed_monthly = ny_confirmed[ny_confirmed.Date.isin(dates)].reset_index(drop=True)\n",
    "ny_confirmed_monthly.head() "
   ]
  },
  {
   "cell_type": "code",
   "execution_count": 10,
   "metadata": {},
   "outputs": [
    {
     "data": {
      "text/html": [
       "<div>\n",
       "<style scoped>\n",
       "    .dataframe tbody tr th:only-of-type {\n",
       "        vertical-align: middle;\n",
       "    }\n",
       "\n",
       "    .dataframe tbody tr th {\n",
       "        vertical-align: top;\n",
       "    }\n",
       "\n",
       "    .dataframe thead th {\n",
       "        text-align: right;\n",
       "    }\n",
       "</style>\n",
       "<table border=\"1\" class=\"dataframe\">\n",
       "  <thead>\n",
       "    <tr style=\"text-align: right;\">\n",
       "      <th></th>\n",
       "      <th>Confirmed Cases</th>\n",
       "      <th>Date</th>\n",
       "    </tr>\n",
       "  </thead>\n",
       "  <tbody>\n",
       "    <tr>\n",
       "      <th>0</th>\n",
       "      <td>0</td>\n",
       "      <td>2020-02-01</td>\n",
       "    </tr>\n",
       "    <tr>\n",
       "      <th>1</th>\n",
       "      <td>0</td>\n",
       "      <td>2020-03-01</td>\n",
       "    </tr>\n",
       "    <tr>\n",
       "      <th>2</th>\n",
       "      <td>82133</td>\n",
       "      <td>2020-04-01</td>\n",
       "    </tr>\n",
       "    <tr>\n",
       "      <th>3</th>\n",
       "      <td>226250</td>\n",
       "      <td>2020-05-01</td>\n",
       "    </tr>\n",
       "    <tr>\n",
       "      <th>4</th>\n",
       "      <td>63397</td>\n",
       "      <td>2020-06-01</td>\n",
       "    </tr>\n",
       "  </tbody>\n",
       "</table>\n",
       "</div>"
      ],
      "text/plain": [
       "  Confirmed Cases       Date\n",
       "0               0 2020-02-01\n",
       "1               0 2020-03-01\n",
       "2           82133 2020-04-01\n",
       "3          226250 2020-05-01\n",
       "4           63397 2020-06-01"
      ]
     },
     "execution_count": 10,
     "metadata": {},
     "output_type": "execute_result"
    }
   ],
   "source": [
    "ny_confirmed_bymonth = ny_confirmed_monthly.iloc[:,1:].diff(axis=0)\n",
    "ny_confirmed_bymonth.iloc[:1] = 0.0\n",
    "ny_confirmed_bymonth['Date'] = ny_confirmed_monthly.Date.values\n",
    "ny_confirmed_bymonth.head()"
   ]
  },
  {
   "cell_type": "code",
   "execution_count": 11,
   "metadata": {},
   "outputs": [
    {
     "data": {
      "text/html": [
       "<div>\n",
       "<style scoped>\n",
       "    .dataframe tbody tr th:only-of-type {\n",
       "        vertical-align: middle;\n",
       "    }\n",
       "\n",
       "    .dataframe tbody tr th {\n",
       "        vertical-align: top;\n",
       "    }\n",
       "\n",
       "    .dataframe thead th {\n",
       "        text-align: right;\n",
       "    }\n",
       "</style>\n",
       "<table border=\"1\" class=\"dataframe\">\n",
       "  <thead>\n",
       "    <tr style=\"text-align: right;\">\n",
       "      <th></th>\n",
       "      <th>Date</th>\n",
       "      <th>Death Cases</th>\n",
       "    </tr>\n",
       "  </thead>\n",
       "  <tbody>\n",
       "    <tr>\n",
       "      <th>0</th>\n",
       "      <td>2020-02-01</td>\n",
       "      <td>0</td>\n",
       "    </tr>\n",
       "    <tr>\n",
       "      <th>1</th>\n",
       "      <td>2020-03-01</td>\n",
       "      <td>0</td>\n",
       "    </tr>\n",
       "    <tr>\n",
       "      <th>2</th>\n",
       "      <td>2020-04-01</td>\n",
       "      <td>2490</td>\n",
       "    </tr>\n",
       "    <tr>\n",
       "      <th>3</th>\n",
       "      <td>2020-05-01</td>\n",
       "      <td>23752</td>\n",
       "    </tr>\n",
       "    <tr>\n",
       "      <th>4</th>\n",
       "      <td>2020-06-01</td>\n",
       "      <td>29747</td>\n",
       "    </tr>\n",
       "  </tbody>\n",
       "</table>\n",
       "</div>"
      ],
      "text/plain": [
       "        Date Death Cases\n",
       "0 2020-02-01           0\n",
       "1 2020-03-01           0\n",
       "2 2020-04-01        2490\n",
       "3 2020-05-01       23752\n",
       "4 2020-06-01       29747"
      ]
     },
     "execution_count": 11,
     "metadata": {},
     "output_type": "execute_result"
    }
   ],
   "source": [
    "ny_deaths_monthly = ny_deaths[ny_deaths.Date.isin(dates)].reset_index(drop=True)\n",
    "ny_deaths_monthly.head()"
   ]
  },
  {
   "cell_type": "code",
   "execution_count": 12,
   "metadata": {},
   "outputs": [
    {
     "data": {
      "text/html": [
       "<div>\n",
       "<style scoped>\n",
       "    .dataframe tbody tr th:only-of-type {\n",
       "        vertical-align: middle;\n",
       "    }\n",
       "\n",
       "    .dataframe tbody tr th {\n",
       "        vertical-align: top;\n",
       "    }\n",
       "\n",
       "    .dataframe thead th {\n",
       "        text-align: right;\n",
       "    }\n",
       "</style>\n",
       "<table border=\"1\" class=\"dataframe\">\n",
       "  <thead>\n",
       "    <tr style=\"text-align: right;\">\n",
       "      <th></th>\n",
       "      <th>Death Cases</th>\n",
       "      <th>Date</th>\n",
       "    </tr>\n",
       "  </thead>\n",
       "  <tbody>\n",
       "    <tr>\n",
       "      <th>0</th>\n",
       "      <td>0</td>\n",
       "      <td>2020-02-01</td>\n",
       "    </tr>\n",
       "    <tr>\n",
       "      <th>1</th>\n",
       "      <td>0</td>\n",
       "      <td>2020-03-01</td>\n",
       "    </tr>\n",
       "    <tr>\n",
       "      <th>2</th>\n",
       "      <td>2490</td>\n",
       "      <td>2020-04-01</td>\n",
       "    </tr>\n",
       "    <tr>\n",
       "      <th>3</th>\n",
       "      <td>21262</td>\n",
       "      <td>2020-05-01</td>\n",
       "    </tr>\n",
       "    <tr>\n",
       "      <th>4</th>\n",
       "      <td>5995</td>\n",
       "      <td>2020-06-01</td>\n",
       "    </tr>\n",
       "  </tbody>\n",
       "</table>\n",
       "</div>"
      ],
      "text/plain": [
       "  Death Cases       Date\n",
       "0           0 2020-02-01\n",
       "1           0 2020-03-01\n",
       "2        2490 2020-04-01\n",
       "3       21262 2020-05-01\n",
       "4        5995 2020-06-01"
      ]
     },
     "execution_count": 12,
     "metadata": {},
     "output_type": "execute_result"
    }
   ],
   "source": [
    "ny_deaths_bymonth = ny_deaths_monthly.iloc[:,1:].diff(axis=0)\n",
    "ny_deaths_bymonth.iloc[:1] = 0.0\n",
    "ny_deaths_bymonth['Date'] = ny_deaths_monthly.Date.values\n",
    "ny_deaths_bymonth.head()"
   ]
  },
  {
   "cell_type": "markdown",
   "metadata": {},
   "source": [
    "# Extracting Total Border Crossing Numbers including Passenger and Non-Passenger Vechiles"
   ]
  },
  {
   "cell_type": "code",
   "execution_count": 13,
   "metadata": {},
   "outputs": [
    {
     "data": {
      "text/html": [
       "<div>\n",
       "<style scoped>\n",
       "    .dataframe tbody tr th:only-of-type {\n",
       "        vertical-align: middle;\n",
       "    }\n",
       "\n",
       "    .dataframe tbody tr th {\n",
       "        vertical-align: top;\n",
       "    }\n",
       "\n",
       "    .dataframe thead th {\n",
       "        text-align: right;\n",
       "    }\n",
       "</style>\n",
       "<table border=\"1\" class=\"dataframe\">\n",
       "  <thead>\n",
       "    <tr style=\"text-align: right;\">\n",
       "      <th></th>\n",
       "      <th>Date</th>\n",
       "      <th>Year</th>\n",
       "      <th>Period (string)</th>\n",
       "      <th>Port Code</th>\n",
       "      <th>Number of Records</th>\n",
       "      <th>Value</th>\n",
       "    </tr>\n",
       "  </thead>\n",
       "  <tbody>\n",
       "    <tr>\n",
       "      <th>0</th>\n",
       "      <td>1/1/2020 12:00:00 AM</td>\n",
       "      <td>111100</td>\n",
       "      <td>111100</td>\n",
       "      <td>41286</td>\n",
       "      <td>55</td>\n",
       "      <td>1694585</td>\n",
       "    </tr>\n",
       "    <tr>\n",
       "      <th>1</th>\n",
       "      <td>1/1/2021 12:00:00 AM</td>\n",
       "      <td>103071</td>\n",
       "      <td>103071</td>\n",
       "      <td>38462</td>\n",
       "      <td>51</td>\n",
       "      <td>419496</td>\n",
       "    </tr>\n",
       "    <tr>\n",
       "      <th>2</th>\n",
       "      <td>10/1/2020 12:00:00 AM</td>\n",
       "      <td>94940</td>\n",
       "      <td>94940</td>\n",
       "      <td>35242</td>\n",
       "      <td>47</td>\n",
       "      <td>482894</td>\n",
       "    </tr>\n",
       "    <tr>\n",
       "      <th>3</th>\n",
       "      <td>11/1/2020 12:00:00 AM</td>\n",
       "      <td>94940</td>\n",
       "      <td>94940</td>\n",
       "      <td>35242</td>\n",
       "      <td>47</td>\n",
       "      <td>444663</td>\n",
       "    </tr>\n",
       "    <tr>\n",
       "      <th>4</th>\n",
       "      <td>12/1/2020 12:00:00 AM</td>\n",
       "      <td>94940</td>\n",
       "      <td>94940</td>\n",
       "      <td>35242</td>\n",
       "      <td>47</td>\n",
       "      <td>438509</td>\n",
       "    </tr>\n",
       "  </tbody>\n",
       "</table>\n",
       "</div>"
      ],
      "text/plain": [
       "                    Date    Year  Period (string)  Port Code  \\\n",
       "0   1/1/2020 12:00:00 AM  111100           111100      41286   \n",
       "1   1/1/2021 12:00:00 AM  103071           103071      38462   \n",
       "2  10/1/2020 12:00:00 AM   94940            94940      35242   \n",
       "3  11/1/2020 12:00:00 AM   94940            94940      35242   \n",
       "4  12/1/2020 12:00:00 AM   94940            94940      35242   \n",
       "\n",
       "   Number of Records    Value  \n",
       "0                 55  1694585  \n",
       "1                 51   419496  \n",
       "2                 47   482894  \n",
       "3                 47   444663  \n",
       "4                 47   438509  "
      ]
     },
     "execution_count": 13,
     "metadata": {},
     "output_type": "execute_result"
    }
   ],
   "source": [
    "total_vechiles_bydate = master_ny_bordercrossing_data.groupby(['Date']).sum().reset_index()\n",
    "total_vechiles_bydate.head()"
   ]
  },
  {
   "cell_type": "code",
   "execution_count": 19,
   "metadata": {},
   "outputs": [
    {
     "name": "stderr",
     "output_type": "stream",
     "text": [
      "/Users/admin/anaconda3/lib/python3.6/site-packages/ipykernel_launcher.py:2: SettingWithCopyWarning: \n",
      "A value is trying to be set on a copy of a slice from a DataFrame.\n",
      "Try using .loc[row_indexer,col_indexer] = value instead\n",
      "\n",
      "See the caveats in the documentation: https://pandas.pydata.org/pandas-docs/stable/user_guide/indexing.html#returning-a-view-versus-a-copy\n",
      "  \n"
     ]
    },
    {
     "data": {
      "text/html": [
       "<div>\n",
       "<style scoped>\n",
       "    .dataframe tbody tr th:only-of-type {\n",
       "        vertical-align: middle;\n",
       "    }\n",
       "\n",
       "    .dataframe tbody tr th {\n",
       "        vertical-align: top;\n",
       "    }\n",
       "\n",
       "    .dataframe thead th {\n",
       "        text-align: right;\n",
       "    }\n",
       "</style>\n",
       "<table border=\"1\" class=\"dataframe\">\n",
       "  <thead>\n",
       "    <tr style=\"text-align: right;\">\n",
       "      <th></th>\n",
       "      <th>Date</th>\n",
       "      <th>Total Border Crossing Value</th>\n",
       "    </tr>\n",
       "  </thead>\n",
       "  <tbody>\n",
       "    <tr>\n",
       "      <th>0</th>\n",
       "      <td>2020-01-01</td>\n",
       "      <td>1694585</td>\n",
       "    </tr>\n",
       "    <tr>\n",
       "      <th>1</th>\n",
       "      <td>2021-01-01</td>\n",
       "      <td>419496</td>\n",
       "    </tr>\n",
       "    <tr>\n",
       "      <th>2</th>\n",
       "      <td>2020-10-01</td>\n",
       "      <td>482894</td>\n",
       "    </tr>\n",
       "    <tr>\n",
       "      <th>3</th>\n",
       "      <td>2020-11-01</td>\n",
       "      <td>444663</td>\n",
       "    </tr>\n",
       "    <tr>\n",
       "      <th>4</th>\n",
       "      <td>2020-12-01</td>\n",
       "      <td>438509</td>\n",
       "    </tr>\n",
       "  </tbody>\n",
       "</table>\n",
       "</div>"
      ],
      "text/plain": [
       "        Date  Total Border Crossing Value\n",
       "0 2020-01-01                      1694585\n",
       "1 2021-01-01                       419496\n",
       "2 2020-10-01                       482894\n",
       "3 2020-11-01                       444663\n",
       "4 2020-12-01                       438509"
      ]
     },
     "execution_count": 19,
     "metadata": {},
     "output_type": "execute_result"
    }
   ],
   "source": [
    "total_vechiles = total_vechiles_bydate[['Date','Value']]\n",
    "total_vechiles['Date'] = pd.to_datetime(total_vechiles['Date'])\n",
    "total_vechiles.columns = ['Date','Total Border Crossing Value']\n",
    "total_vechiles.head()"
   ]
  },
  {
   "cell_type": "code",
   "execution_count": 20,
   "metadata": {},
   "outputs": [
    {
     "data": {
      "text/plain": [
       "array(['Bus Passengers', 'Buses', 'Pedestrians', 'Rail Containers Loaded',\n",
       "       'Train Passengers', 'Personal Vehicle Passengers',\n",
       "       'Personal Vehicles', 'Trains', 'Truck Containers Empty',\n",
       "       'Truck Containers Loaded', 'Trucks', 'Rail Containers Empty'],\n",
       "      dtype=object)"
      ]
     },
     "execution_count": 20,
     "metadata": {},
     "output_type": "execute_result"
    }
   ],
   "source": [
    "master_ny_bordercrossing_data['Measure'].unique()"
   ]
  },
  {
   "cell_type": "markdown",
   "metadata": {},
   "source": [
    "# Extracting Passenger Data"
   ]
  },
  {
   "cell_type": "code",
   "execution_count": 25,
   "metadata": {},
   "outputs": [
    {
     "name": "stderr",
     "output_type": "stream",
     "text": [
      "/Users/admin/anaconda3/lib/python3.6/site-packages/ipykernel_launcher.py:7: SettingWithCopyWarning: \n",
      "A value is trying to be set on a copy of a slice from a DataFrame.\n",
      "Try using .loc[row_indexer,col_indexer] = value instead\n",
      "\n",
      "See the caveats in the documentation: https://pandas.pydata.org/pandas-docs/stable/user_guide/indexing.html#returning-a-view-versus-a-copy\n",
      "  import sys\n"
     ]
    },
    {
     "data": {
      "text/html": [
       "<div>\n",
       "<style scoped>\n",
       "    .dataframe tbody tr th:only-of-type {\n",
       "        vertical-align: middle;\n",
       "    }\n",
       "\n",
       "    .dataframe tbody tr th {\n",
       "        vertical-align: top;\n",
       "    }\n",
       "\n",
       "    .dataframe thead th {\n",
       "        text-align: right;\n",
       "    }\n",
       "</style>\n",
       "<table border=\"1\" class=\"dataframe\">\n",
       "  <thead>\n",
       "    <tr style=\"text-align: right;\">\n",
       "      <th></th>\n",
       "      <th>Date</th>\n",
       "      <th>Passenger Border Crossing Value</th>\n",
       "    </tr>\n",
       "  </thead>\n",
       "  <tbody>\n",
       "    <tr>\n",
       "      <th>0</th>\n",
       "      <td>2020-01-01</td>\n",
       "      <td>1433449</td>\n",
       "    </tr>\n",
       "    <tr>\n",
       "      <th>1</th>\n",
       "      <td>2021-01-01</td>\n",
       "      <td>169391</td>\n",
       "    </tr>\n",
       "    <tr>\n",
       "      <th>2</th>\n",
       "      <td>2020-10-01</td>\n",
       "      <td>214682</td>\n",
       "    </tr>\n",
       "    <tr>\n",
       "      <th>3</th>\n",
       "      <td>2020-11-01</td>\n",
       "      <td>185219</td>\n",
       "    </tr>\n",
       "    <tr>\n",
       "      <th>4</th>\n",
       "      <td>2020-12-01</td>\n",
       "      <td>196005</td>\n",
       "    </tr>\n",
       "  </tbody>\n",
       "</table>\n",
       "</div>"
      ],
      "text/plain": [
       "        Date  Passenger Border Crossing Value\n",
       "0 2020-01-01                          1433449\n",
       "1 2021-01-01                           169391\n",
       "2 2020-10-01                           214682\n",
       "3 2020-11-01                           185219\n",
       "4 2020-12-01                           196005"
      ]
     },
     "execution_count": 25,
     "metadata": {},
     "output_type": "execute_result"
    }
   ],
   "source": [
    "passenger_list = ['Bus Passengers', 'Pedestrians', 'Train Passengers', 'Personal Vehicle Passengers', 'Personal Vehicles']\n",
    "non_passenger_list = ['Buses', 'Rail Containers Loaded', 'Trains', 'Truck Containers Empty', 'Truck Containers Loaded', 'Trucks', 'Rail Containers Empty']\n",
    "passenger_data = master_ny_bordercrossing_data[master_ny_bordercrossing_data.Measure.isin(passenger_list)]\n",
    "passenger_data_vechiles_bydate = passenger_data.groupby(['Date']).sum().reset_index()\n",
    "\n",
    "passenger_df = passenger_data_vechiles_bydate[['Date','Value']]\n",
    "passenger_df['Date'] = pd.to_datetime(passenger_df['Date'])\n",
    "passenger_df.columns = ['Date','Passenger Border Crossing Value']\n",
    "passenger_df.head()"
   ]
  },
  {
   "cell_type": "markdown",
   "metadata": {},
   "source": [
    "# Extracting Non-Passenger Data"
   ]
  },
  {
   "cell_type": "code",
   "execution_count": 26,
   "metadata": {},
   "outputs": [
    {
     "name": "stderr",
     "output_type": "stream",
     "text": [
      "/Users/admin/anaconda3/lib/python3.6/site-packages/ipykernel_launcher.py:5: SettingWithCopyWarning: \n",
      "A value is trying to be set on a copy of a slice from a DataFrame.\n",
      "Try using .loc[row_indexer,col_indexer] = value instead\n",
      "\n",
      "See the caveats in the documentation: https://pandas.pydata.org/pandas-docs/stable/user_guide/indexing.html#returning-a-view-versus-a-copy\n",
      "  \"\"\"\n"
     ]
    },
    {
     "data": {
      "text/html": [
       "<div>\n",
       "<style scoped>\n",
       "    .dataframe tbody tr th:only-of-type {\n",
       "        vertical-align: middle;\n",
       "    }\n",
       "\n",
       "    .dataframe tbody tr th {\n",
       "        vertical-align: top;\n",
       "    }\n",
       "\n",
       "    .dataframe thead th {\n",
       "        text-align: right;\n",
       "    }\n",
       "</style>\n",
       "<table border=\"1\" class=\"dataframe\">\n",
       "  <thead>\n",
       "    <tr style=\"text-align: right;\">\n",
       "      <th></th>\n",
       "      <th>Date</th>\n",
       "      <th>Non Passenger Border Crossing Value</th>\n",
       "    </tr>\n",
       "  </thead>\n",
       "  <tbody>\n",
       "    <tr>\n",
       "      <th>0</th>\n",
       "      <td>2020-01-01</td>\n",
       "      <td>261136</td>\n",
       "    </tr>\n",
       "    <tr>\n",
       "      <th>1</th>\n",
       "      <td>2021-01-01</td>\n",
       "      <td>250105</td>\n",
       "    </tr>\n",
       "    <tr>\n",
       "      <th>2</th>\n",
       "      <td>2020-10-01</td>\n",
       "      <td>268212</td>\n",
       "    </tr>\n",
       "    <tr>\n",
       "      <th>3</th>\n",
       "      <td>2020-11-01</td>\n",
       "      <td>259444</td>\n",
       "    </tr>\n",
       "    <tr>\n",
       "      <th>4</th>\n",
       "      <td>2020-12-01</td>\n",
       "      <td>242504</td>\n",
       "    </tr>\n",
       "  </tbody>\n",
       "</table>\n",
       "</div>"
      ],
      "text/plain": [
       "        Date  Non Passenger Border Crossing Value\n",
       "0 2020-01-01                               261136\n",
       "1 2021-01-01                               250105\n",
       "2 2020-10-01                               268212\n",
       "3 2020-11-01                               259444\n",
       "4 2020-12-01                               242504"
      ]
     },
     "execution_count": 26,
     "metadata": {},
     "output_type": "execute_result"
    }
   ],
   "source": [
    "non_passenger_data = master_ny_bordercrossing_data[master_ny_bordercrossing_data.Measure.isin(non_passenger_list)]\n",
    "non_passenger_data_vechiles_bydate = non_passenger_data.groupby(['Date']).sum().reset_index()\n",
    "\n",
    "non_passenger_df = non_passenger_data_vechiles_bydate[['Date','Value']]\n",
    "non_passenger_df['Date'] = pd.to_datetime(non_passenger_df['Date'])\n",
    "non_passenger_df.columns = ['Date','Non Passenger Border Crossing Value']\n",
    "non_passenger_df.head()"
   ]
  },
  {
   "cell_type": "markdown",
   "metadata": {},
   "source": [
    "The border crossing data has \"'Bus Passengers', 'Buses', 'Pedestrians', 'Rail Containers Loaded','Train Passengers', 'Personal Vehicle Passengers','Personal Vehicles', 'Trains', 'Truck Containers Empty', 'Truck Containers Loaded', 'Trucks', 'Rail Containers Empty'\" measures. We have drilled down the data set to passenger and non passenger( goods) border crossing to see how it has impacted both the sectors."
   ]
  },
  {
   "cell_type": "markdown",
   "metadata": {},
   "source": [
    "# Combining all data sets"
   ]
  },
  {
   "cell_type": "code",
   "execution_count": 35,
   "metadata": {},
   "outputs": [
    {
     "data": {
      "text/html": [
       "<div>\n",
       "<style scoped>\n",
       "    .dataframe tbody tr th:only-of-type {\n",
       "        vertical-align: middle;\n",
       "    }\n",
       "\n",
       "    .dataframe tbody tr th {\n",
       "        vertical-align: top;\n",
       "    }\n",
       "\n",
       "    .dataframe thead th {\n",
       "        text-align: right;\n",
       "    }\n",
       "</style>\n",
       "<table border=\"1\" class=\"dataframe\">\n",
       "  <thead>\n",
       "    <tr style=\"text-align: right;\">\n",
       "      <th></th>\n",
       "      <th>Date</th>\n",
       "      <th>Passenger Border Crossing Value</th>\n",
       "      <th>Non Passenger Border Crossing Value</th>\n",
       "      <th>Total Border Crossing Value</th>\n",
       "      <th>Death Cases</th>\n",
       "      <th>Confirmed Cases</th>\n",
       "    </tr>\n",
       "  </thead>\n",
       "  <tbody>\n",
       "    <tr>\n",
       "      <th>8</th>\n",
       "      <td>2020-04-01</td>\n",
       "      <td>96543</td>\n",
       "      <td>199395</td>\n",
       "      <td>295938</td>\n",
       "      <td>2490</td>\n",
       "      <td>82133</td>\n",
       "    </tr>\n",
       "    <tr>\n",
       "      <th>9</th>\n",
       "      <td>2020-05-01</td>\n",
       "      <td>136368</td>\n",
       "      <td>208770</td>\n",
       "      <td>345138</td>\n",
       "      <td>21262</td>\n",
       "      <td>226250</td>\n",
       "    </tr>\n",
       "    <tr>\n",
       "      <th>10</th>\n",
       "      <td>2020-06-01</td>\n",
       "      <td>173720</td>\n",
       "      <td>244123</td>\n",
       "      <td>417843</td>\n",
       "      <td>5995</td>\n",
       "      <td>63397</td>\n",
       "    </tr>\n",
       "    <tr>\n",
       "      <th>11</th>\n",
       "      <td>2020-07-01</td>\n",
       "      <td>190303</td>\n",
       "      <td>247191</td>\n",
       "      <td>437494</td>\n",
       "      <td>2044</td>\n",
       "      <td>22468</td>\n",
       "    </tr>\n",
       "    <tr>\n",
       "      <th>12</th>\n",
       "      <td>2020-08-01</td>\n",
       "      <td>211069</td>\n",
       "      <td>256845</td>\n",
       "      <td>467914</td>\n",
       "      <td>599</td>\n",
       "      <td>21588</td>\n",
       "    </tr>\n",
       "  </tbody>\n",
       "</table>\n",
       "</div>"
      ],
      "text/plain": [
       "         Date  Passenger Border Crossing Value  \\\n",
       "8  2020-04-01                            96543   \n",
       "9  2020-05-01                           136368   \n",
       "10 2020-06-01                           173720   \n",
       "11 2020-07-01                           190303   \n",
       "12 2020-08-01                           211069   \n",
       "\n",
       "    Non Passenger Border Crossing Value  Total Border Crossing Value  \\\n",
       "8                                199395                       295938   \n",
       "9                                208770                       345138   \n",
       "10                               244123                       417843   \n",
       "11                               247191                       437494   \n",
       "12                               256845                       467914   \n",
       "\n",
       "    Death Cases  Confirmed Cases  \n",
       "8          2490            82133  \n",
       "9         21262           226250  \n",
       "10         5995            63397  \n",
       "11         2044            22468  \n",
       "12          599            21588  "
      ]
     },
     "execution_count": 35,
     "metadata": {},
     "output_type": "execute_result"
    }
   ],
   "source": [
    "master_combined_df = pd.merge(left=passenger_df,right=non_passenger_df, on='Date')\n",
    "master_combined_df = pd.merge(left=master_combined_df,right=total_vechiles, on='Date')\n",
    "master_combined_df = pd.merge(left=master_combined_df,right=ny_deaths_bymonth, on='Date')\n",
    "master_combined_df = pd.merge(left=master_combined_df,right=ny_confirmed_bymonth, on='Date')\n",
    "master_combined_df[['Confirmed Cases', 'Death Cases','Total Border Crossing Value','Passenger Border Crossing Value','Non Passenger Border Crossing Value']] = master_combined_df[['Confirmed Cases', 'Death Cases','Total Border Crossing Value','Passenger Border Crossing Value','Non Passenger Border Crossing Value']].apply(pd.to_numeric)\n",
    "master_combined_df.sort_values(by='Date', inplace=True)\n",
    "master_combined_df = master_combined_df[2:]\n",
    "master_combined_df.head()"
   ]
  },
  {
   "cell_type": "markdown",
   "metadata": {},
   "source": [
    "The above dataset is a combined data set of all the extracted and useful data values which we will be using in our reference.\n",
    "We are dealing with 6 permutations of the above columns to see how it is impacting one another. The 6 permutations are as follows:\n",
    "1. Total Border Crossing Value VS Confirmed Cases\n",
    "2. Total Border Crossing Value VS Death Cases\n",
    "3. Passenger Border Crossing Value VS Confirmed Cases\n",
    "4. Passenger Border Crossing Value VS Death Cases\n",
    "5. Non Passenger Border Crossing Value VS Confirmed Cases\n",
    "6. Non Passenger Border Crossing Value VS Death Cases"
   ]
  },
  {
   "cell_type": "code",
   "execution_count": 39,
   "metadata": {},
   "outputs": [
    {
     "data": {
      "text/plain": [
       "<matplotlib.axes._subplots.AxesSubplot at 0x120e47cc0>"
      ]
     },
     "execution_count": 39,
     "metadata": {},
     "output_type": "execute_result"
    },
    {
     "data": {
      "image/png": "[encoded data removed]",
      "text/plain": [
       "<Figure size 1080x360 with 1 Axes>"
      ]
     },
     "metadata": {},
     "output_type": "display_data"
    }
   ],
   "source": [
    "master_combined_df.plot(x='Date', figsize = (15,5))"
   ]
  },
  {
   "cell_type": "markdown",
   "metadata": {},
   "source": [
    "# Inference 1\n",
    "\n",
    "# Corelation Test"
   ]
  },
  {
   "cell_type": "markdown",
   "metadata": {},
   "source": [
    "## H0 -> Both the data sets are not correlated\n",
    "## H1 -> Both the data sets are correlated"
   ]
  },
  {
   "cell_type": "code",
   "execution_count": 56,
   "metadata": {},
   "outputs": [],
   "source": [
    "def corr(x,y):\n",
    "    x_mean = np.mean(x)\n",
    "    y_mean = np.mean(y)\n",
    "    x_temp = x-x_mean\n",
    "    y_temp = y-y_mean\n",
    "    numerator = np.sum(x_temp*y_temp)\n",
    "    denx = np.sum(np.square(x-x_mean))\n",
    "    deny = np.sum(np.square(y-y_mean))\n",
    "    den = np.sqrt(denx*deny)\n",
    "    return numerator/den"
   ]
  },
  {
   "cell_type": "code",
   "execution_count": 166,
   "metadata": {},
   "outputs": [],
   "source": [
    "comparison = []\n",
    "correlation_val = []"
   ]
  },
  {
   "cell_type": "code",
   "execution_count": 167,
   "metadata": {},
   "outputs": [],
   "source": [
    "# Total Border Crossing Value VS Confirmed Cases\n",
    "\n",
    "comparison.append(\"Total Border Crossing Value VS Confirmed Cases\")\n",
    "total_border_crossing_data = master_combined_df['Total Border Crossing Value']\n",
    "confirmed_cases = master_combined_df['Confirmed Cases']\n",
    "correlation_val.append(corr(total_border_crossing_data, confirmed_cases))"
   ]
  },
  {
   "cell_type": "code",
   "execution_count": 168,
   "metadata": {},
   "outputs": [],
   "source": [
    "# Total Border Crossing Value VS Death Cases\n",
    "comparison.append(\"Total Border Crossing Value VS Death Cases\")\n",
    "death_cases = master_combined_df['Death Cases']\n",
    "correlation_val.append(corr(total_border_crossing_data, death_cases))"
   ]
  },
  {
   "cell_type": "code",
   "execution_count": 169,
   "metadata": {},
   "outputs": [],
   "source": [
    "# Passenger Border Crossing Value VS Confirmed Cases\n",
    "comparison.append(\"Passenger Border Crossing Value VS Confirmed Cases\")\n",
    "passenger_border_crossing_data = master_combined_df['Passenger Border Crossing Value']\n",
    "correlation_val.append(corr(passenger_border_crossing_data, confirmed_cases))"
   ]
  },
  {
   "cell_type": "code",
   "execution_count": 170,
   "metadata": {},
   "outputs": [],
   "source": [
    "# Passenger Border Crossing Value VS Death Cases\n",
    "comparison.append(\"Passenger Border Crossing Value VS Death Cases\")\n",
    "correlation_val.append(corr(passenger_border_crossing_data, death_cases))"
   ]
  },
  {
   "cell_type": "code",
   "execution_count": 171,
   "metadata": {},
   "outputs": [],
   "source": [
    "# Non Passenger Border Crossing Value VS Confirmed Cases\n",
    "comparison.append(\"Non Passenger Border Crossing Value VS Confirmed Cases\")\n",
    "non_passenger_border_crossing_data = master_combined_df['Non Passenger Border Crossing Value']\n",
    "correlation_val.append(corr(non_passenger_border_crossing_data, confirmed_cases))"
   ]
  },
  {
   "cell_type": "code",
   "execution_count": 172,
   "metadata": {},
   "outputs": [],
   "source": [
    "# Non Passenger Border Crossing Value VS Death Cases\n",
    "comparison.append(\"Non Passenger Border Crossing Value VS Death Cases\")\n",
    "correlation_val.append(corr(non_passenger_border_crossing_data, death_cases))"
   ]
  },
  {
   "cell_type": "code",
   "execution_count": 173,
   "metadata": {},
   "outputs": [
    {
     "name": "stdout",
     "output_type": "stream",
     "text": [
      "Comparison of Correlation Coeffecient\n"
     ]
    },
    {
     "data": {
      "text/html": [
       "<div>\n",
       "<style scoped>\n",
       "    .dataframe tbody tr th:only-of-type {\n",
       "        vertical-align: middle;\n",
       "    }\n",
       "\n",
       "    .dataframe tbody tr th {\n",
       "        vertical-align: top;\n",
       "    }\n",
       "\n",
       "    .dataframe thead th {\n",
       "        text-align: right;\n",
       "    }\n",
       "</style>\n",
       "<table border=\"1\" class=\"dataframe\">\n",
       "  <thead>\n",
       "    <tr style=\"text-align: right;\">\n",
       "      <th></th>\n",
       "      <th>Comparison</th>\n",
       "      <th>Correlation coeffecient</th>\n",
       "    </tr>\n",
       "  </thead>\n",
       "  <tbody>\n",
       "    <tr>\n",
       "      <th>0</th>\n",
       "      <td>Total Border Crossing Value VS Confirmed Cases</td>\n",
       "      <td>-0.285039</td>\n",
       "    </tr>\n",
       "    <tr>\n",
       "      <th>1</th>\n",
       "      <td>Total Border Crossing Value VS Death Cases</td>\n",
       "      <td>-0.515181</td>\n",
       "    </tr>\n",
       "    <tr>\n",
       "      <th>2</th>\n",
       "      <td>Passenger Border Crossing Value VS Confirmed C...</td>\n",
       "      <td>-0.346702</td>\n",
       "    </tr>\n",
       "    <tr>\n",
       "      <th>3</th>\n",
       "      <td>Passenger Border Crossing Value VS Death Cases</td>\n",
       "      <td>-0.484858</td>\n",
       "    </tr>\n",
       "    <tr>\n",
       "      <th>4</th>\n",
       "      <td>Non Passenger Border Crossing Value VS Confirm...</td>\n",
       "      <td>-0.179957</td>\n",
       "    </tr>\n",
       "    <tr>\n",
       "      <th>5</th>\n",
       "      <td>Non Passenger Border Crossing Value VS Death C...</td>\n",
       "      <td>-0.526362</td>\n",
       "    </tr>\n",
       "  </tbody>\n",
       "</table>\n",
       "</div>"
      ],
      "text/plain": [
       "                                          Comparison  Correlation coeffecient\n",
       "0     Total Border Crossing Value VS Confirmed Cases                -0.285039\n",
       "1         Total Border Crossing Value VS Death Cases                -0.515181\n",
       "2  Passenger Border Crossing Value VS Confirmed C...                -0.346702\n",
       "3     Passenger Border Crossing Value VS Death Cases                -0.484858\n",
       "4  Non Passenger Border Crossing Value VS Confirm...                -0.179957\n",
       "5  Non Passenger Border Crossing Value VS Death C...                -0.526362"
      ]
     },
     "metadata": {},
     "output_type": "display_data"
    }
   ],
   "source": [
    "finalcomparison = pd.DataFrame({\n",
    "    'Comparison': comparison,\n",
    "    'Correlation coeffecient': correlation_val,\n",
    "})\n",
    "print(\"Comparison of Correlation Coeffecient\")\n",
    "display(finalcomparison)"
   ]
  },
  {
   "cell_type": "markdown",
   "metadata": {},
   "source": [
    "Here, on a general level, we can see that the values between the border crossing values and the confirmed/ death cases are negatively correlated. To be more precise:\n",
    "\n",
    "1. Total Border Crossing Value VS Confirmed Cases is less than 0.5, hence negatively correlated\n",
    "2. Total Border Crossing Value VS Death Cases is greater than 0.5, hence not correlated but slightly since the value is just above 0.5\n",
    "3. Passenger Border Crossing Value VS Confirmed Cases is less than 0.5, hence negatively correlated\n",
    "4. Passenger Border Crossing Value VS Death Cases is less than 0.5, hence negatively correlated\n",
    "5. Non Passenger Border Crossing Value VS Confirmed Cases is less than 0.5, hence negatively correlated\n",
    "6. Non Passenger Border Crossing Value VS Death Cases is greater than 0.5, hence not correlated but slightly since the value is just above 0.5\n",
    "\n",
    "As seen, confirmed cases have a much greater impact than death cases. As cases started to increase, people used to migrate less. Also non passenger vechiles had less impact than passenger vechiles.\n"
   ]
  },
  {
   "cell_type": "markdown",
   "metadata": {},
   "source": [
    "# Inference 2\n",
    "\n",
    "# KS TEST"
   ]
  },
  {
   "cell_type": "markdown",
   "metadata": {},
   "source": [
    "## H0 -> Both the data sets follow the same distribution\n",
    "\n",
    "## H1 -> Both the data sets do not follow the same distribution"
   ]
  },
  {
   "cell_type": "code",
   "execution_count": 76,
   "metadata": {},
   "outputs": [],
   "source": [
    "def get_xy(x):\n",
    "\n",
    "  n = len(x)\n",
    "  x = sorted(x)\n",
    "  x_cdf = []\n",
    "  y_cdf = []\n",
    "  y_curr = 0\n",
    "\n",
    "  x_cdf.append(0)\n",
    "  y_cdf.append(0)\n",
    "\n",
    "  for i in x:\n",
    "    y_curr += 1/n\n",
    "    y_cdf.append(y_curr)\n",
    "    x_cdf.append(i)\n",
    "\n",
    "  return x_cdf,y_cdf\n",
    "\n",
    "def draw_ecdf(x1, y1, x2, y2, max_diff, max_ind):\n",
    "    plt.figure(figsize=(10,5))\n",
    "    plt.step(x1, y1, where=\"post\", label=\"CDF-D1\")\n",
    "    plt.step(x2, y2, where=\"post\", label=\"CDF-D2\")\n",
    "    # plt.xticks(x1 + x2, rotation = 90)\n",
    "    plt.yticks(np.arange(0, 1.1, 1/10))\n",
    "    plt.title(\"Empirical CDF\")\n",
    "    plt.xlabel(\"Sample Points\")\n",
    "    plt.ylabel(\"Pr[X<x]\")\n",
    "    plt.scatter([max_ind],[0], color='red', marker='x', s=100, label=f'Max Diff {max_diff} at {max_ind}')\n",
    "    # plt.scatter(x, [0]*len(x), color='red', marker='x', s=100, label='samples')\n",
    "    plt.grid(which=\"both\")\n",
    "    plt.legend()\n",
    "    plt.show()\n",
    "\n",
    "def ks_2_sample_test(data1,data2, threshold=0.05, draw=True):\n",
    "  x1, y1 = get_xy(data1)\n",
    "  x2, y2 = get_xy(data2)\n",
    "\n",
    "  n = int(min([max(x1),max(x2)])) +10\n",
    "\n",
    "  y1_all = []\n",
    "  temp=0\n",
    "  for i in np.arange(n):\n",
    "    ind = np.where(np.array(x1) == i)[0]\n",
    "    if len(ind)==0:\n",
    "      y1_all.append(temp)\n",
    "    else:\n",
    "      y1_all.append(y1[ind[-1]])\n",
    "      temp = y1[ind[-1]]\n",
    "\n",
    "  y2_all = []\n",
    "  temp=0\n",
    "  for i in np.arange(n):\n",
    "    ind = np.where(np.array(x2) == i)[0]\n",
    "    if len(ind)==0:\n",
    "      y2_all.append(temp)\n",
    "    else:\n",
    "      y2_all.append(y2[ind[-1]])\n",
    "      temp = y2[ind[-1]]\n",
    "\n",
    "  diff=[]\n",
    "  for i in range(n):\n",
    "    diff.append( np.absolute( y1_all[i] - y2_all[i]  ) )\n",
    "\n",
    "  max_diff = np.max(diff)\n",
    "\n",
    "  max_ind = np.argmax(diff)\n",
    "\n",
    "  if draw:\n",
    "    draw_ecdf(x1,y1,x2,y2, max_diff, max_ind)\n",
    "\n",
    "  if max_diff > threshold:\n",
    "    print(f\"Max value = {max_diff} > C: {threshold}, We reject H0\")\n",
    "  else:\n",
    "    print(f\"Max value = {max_diff} <= C: {threshold}, We reject H0\")"
   ]
  },
  {
   "cell_type": "code",
   "execution_count": 77,
   "metadata": {},
   "outputs": [
    {
     "data": {
      "image/png": "[encoded data removed]",
      "text/plain": [
       "<Figure size 720x360 with 1 Axes>"
      ]
     },
     "metadata": {},
     "output_type": "display_data"
    },
    {
     "name": "stdout",
     "output_type": "stream",
     "text": [
      "Max value = 0.8333333333333334 > C: 0.05, We reject H0\n"
     ]
    }
   ],
   "source": [
    "ks_2_sample_test(total_border_crossing_data, confirmed_cases)"
   ]
  },
  {
   "cell_type": "code",
   "execution_count": 78,
   "metadata": {},
   "outputs": [
    {
     "data": {
      "image/png": "[encoded data removed]",
      "text/plain": [
       "<Figure size 720x360 with 1 Axes>"
      ]
     },
     "metadata": {},
     "output_type": "display_data"
    },
    {
     "name": "stdout",
     "output_type": "stream",
     "text": [
      "Max value = 1.0 > C: 0.05, We reject H0\n"
     ]
    }
   ],
   "source": [
    "ks_2_sample_test(total_border_crossing_data, death_cases)"
   ]
  },
  {
   "cell_type": "code",
   "execution_count": 79,
   "metadata": {},
   "outputs": [
    {
     "data": {
      "image/png": "[encoded data removed]",
      "text/plain": [
       "<Figure size 720x360 with 1 Axes>"
      ]
     },
     "metadata": {},
     "output_type": "display_data"
    },
    {
     "name": "stdout",
     "output_type": "stream",
     "text": [
      "Max value = 0.5833333333333333 > C: 0.05, We reject H0\n"
     ]
    }
   ],
   "source": [
    "ks_2_sample_test(passenger_border_crossing_data, confirmed_cases)"
   ]
  },
  {
   "cell_type": "code",
   "execution_count": 80,
   "metadata": {},
   "outputs": [
    {
     "data": {
      "image/png": "[encoded data removed]",
      "text/plain": [
       "<Figure size 720x360 with 1 Axes>"
      ]
     },
     "metadata": {},
     "output_type": "display_data"
    },
    {
     "name": "stdout",
     "output_type": "stream",
     "text": [
      "Max value = 1.0 > C: 0.05, We reject H0\n"
     ]
    }
   ],
   "source": [
    "ks_2_sample_test(passenger_border_crossing_data, death_cases)"
   ]
  },
  {
   "cell_type": "code",
   "execution_count": 81,
   "metadata": {},
   "outputs": [
    {
     "data": {
      "image/png": "[encoded data removed]",
      "text/plain": [
       "<Figure size 720x360 with 1 Axes>"
      ]
     },
     "metadata": {},
     "output_type": "display_data"
    },
    {
     "name": "stdout",
     "output_type": "stream",
     "text": [
      "Max value = 0.6666666666666667 > C: 0.05, We reject H0\n"
     ]
    }
   ],
   "source": [
    "ks_2_sample_test(non_passenger_border_crossing_data, confirmed_cases)"
   ]
  },
  {
   "cell_type": "code",
   "execution_count": 83,
   "metadata": {},
   "outputs": [
    {
     "data": {
      "image/png": "[encoded data removed]",
      "text/plain": [
       "<Figure size 720x360 with 1 Axes>"
      ]
     },
     "metadata": {},
     "output_type": "display_data"
    },
    {
     "name": "stdout",
     "output_type": "stream",
     "text": [
      "Max value = 1.0 > C: 0.05, We reject H0\n"
     ]
    }
   ],
   "source": [
    "ks_2_sample_test(non_passenger_border_crossing_data, death_cases)"
   ]
  },
  {
   "cell_type": "markdown",
   "metadata": {},
   "source": [
    "For all the cases, we reject H0 i.e. all the combinations of the datasets do not follow the same distribution. As covid cases/ confirmation and border crossing data are inversely correlated, these data sets are bound not to follow the same distribution."
   ]
  },
  {
   "cell_type": "markdown",
   "metadata": {},
   "source": [
    "# Inference 3\n",
    "\n",
    "# Chi Square"
   ]
  },
  {
   "cell_type": "markdown",
   "metadata": {},
   "source": [
    "## Ho -> Distributions are Independent\n",
    "## H1 -> Distributions are not independent"
   ]
  },
  {
   "cell_type": "code",
   "execution_count": 174,
   "metadata": {},
   "outputs": [],
   "source": [
    "def chi_square(data,x,y):\n",
    "  rows = data.shape[0]\n",
    "  cols = data.shape[1]\n",
    "  observed = data[[x,y]]\n",
    "  observed.loc['Column_Total']= observed.sum(numeric_only=True, axis=0)\n",
    "  observed.loc[:,'Row_Total'] = observed.sum(numeric_only=True, axis=1)\n",
    "\n",
    "  expected = pd.DataFrame(columns=[x,y])\n",
    "\n",
    "  for col in expected.columns:\n",
    "    for ind in observed.index:\n",
    "      expected.loc[ind,col] = (observed.loc[ind,'Row_Total'] * observed.loc['Column_Total', col])/observed.loc['Column_Total','Row_Total']\n",
    "  \n",
    "\n",
    "  Q_obs = np.sum(np.square(np.array((observed.iloc[:-1,:-1] - expected.iloc[:-1,:])).flatten())/np.array(expected.iloc[:-1,:]).flatten())\n",
    "\n",
    "  print(f\"Q_obs: {Q_obs}\")"
   ]
  },
  {
   "cell_type": "code",
   "execution_count": 175,
   "metadata": {},
   "outputs": [
    {
     "name": "stdout",
     "output_type": "stream",
     "text": [
      "Q_obs: 1106929.5158653043\n",
      "Q_obs: 115793.8853924144\n",
      "Q_obs: 883809.6411306558\n",
      "Q_obs: 116436.0775214673\n",
      "Q_obs: 891679.2935562562\n",
      "Q_obs: 106566.51675903022\n"
     ]
    },
    {
     "name": "stderr",
     "output_type": "stream",
     "text": [
      "/Users/admin/anaconda3/lib/python3.6/site-packages/pandas/core/indexing.py:671: SettingWithCopyWarning: \n",
      "A value is trying to be set on a copy of a slice from a DataFrame\n",
      "\n",
      "See the caveats in the documentation: https://pandas.pydata.org/pandas-docs/stable/user_guide/indexing.html#returning-a-view-versus-a-copy\n",
      "  self._setitem_with_indexer(indexer, value)\n",
      "/Users/admin/anaconda3/lib/python3.6/site-packages/pandas/core/indexing.py:845: SettingWithCopyWarning: \n",
      "A value is trying to be set on a copy of a slice from a DataFrame.\n",
      "Try using .loc[row_indexer,col_indexer] = value instead\n",
      "\n",
      "See the caveats in the documentation: https://pandas.pydata.org/pandas-docs/stable/user_guide/indexing.html#returning-a-view-versus-a-copy\n",
      "  self.obj[key] = _infer_fill_value(value)\n",
      "/Users/admin/anaconda3/lib/python3.6/site-packages/pandas/core/indexing.py:966: SettingWithCopyWarning: \n",
      "A value is trying to be set on a copy of a slice from a DataFrame.\n",
      "Try using .loc[row_indexer,col_indexer] = value instead\n",
      "\n",
      "See the caveats in the documentation: https://pandas.pydata.org/pandas-docs/stable/user_guide/indexing.html#returning-a-view-versus-a-copy\n",
      "  self.obj[item] = s\n"
     ]
    }
   ],
   "source": [
    "chi_square(master_combined_df, 'Total Border Crossing Value', 'Confirmed Cases')\n",
    "chi_square(master_combined_df, 'Total Border Crossing Value', 'Death Cases')\n",
    "chi_square(master_combined_df, 'Passenger Border Crossing Value', 'Confirmed Cases')\n",
    "chi_square(master_combined_df, 'Passenger Border Crossing Value', 'Death Cases')\n",
    "chi_square(master_combined_df, 'Non Passenger Border Crossing Value', 'Confirmed Cases')\n",
    "chi_square(master_combined_df, 'Non Passenger Border Crossing Value', 'Death Cases')"
   ]
  },
  {
   "cell_type": "markdown",
   "metadata": {},
   "source": [
    "In Chi-Square test, all the above values have a P value less than 0.05. Hence, we reject the hypotheis that the distributions are independent. All the features compared above are dependent."
   ]
  }
 ],
 "metadata": {
  "kernelspec": {
   "display_name": "Python 3",
   "language": "python",
   "name": "python3"
  },
  "language_info": {
   "codemirror_mode": {
    "name": "ipython",
    "version": 3
   },
   "file_extension": ".py",
   "mimetype": "text/x-python",
   "name": "python",
   "nbconvert_exporter": "python",
   "pygments_lexer": "ipython3",
   "version": "3.6.8"
  }
 },
 "nbformat": 4,
 "nbformat_minor": 4
}
