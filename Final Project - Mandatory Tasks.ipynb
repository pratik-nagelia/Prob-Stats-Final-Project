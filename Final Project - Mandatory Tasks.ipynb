{
 "cells": [
  {
   "cell_type": "markdown",
   "metadata": {},
   "source": [
    "# Probability and Statistics Final Project\n",
    "\n",
    "## Mandatory tasks "
   ]
  },
  {
   "cell_type": "markdown",
   "metadata": {},
   "source": [
    "Task1 : Clean your dataset (remove missing values, sanitize data, etc.). Remove any outliers (except 0s) using the \n",
    "Tukey’s rule from class using the default values as in class. Report what you found (number of outliers). \n",
    "Comment on your findings both for data cleaning (what issues you found, how you dealt with them) \n",
    "and outlier detection. This will be 10% of the project grade.\n",
    "ME is Maine\n",
    "MD is Maryland\n"
   ]
  },
  {
   "cell_type": "code",
   "execution_count": 1,
   "metadata": {},
   "outputs": [],
   "source": [
    "\n",
    "\n",
    "import pandas as pd\n",
    "import numpy as np\n",
    "from collections import Counter\n",
    "import sklearn\n",
    "from scipy import stats\n",
    "import matplotlib.pyplot as plt\n",
    "import os\n",
    "import seaborn as sns\n",
    "import math\n",
    "from math import *\n",
    "import datetime \n",
    "from datetime import timedelta \n",
    "from IPython.core.display import display\n",
    "from sklearn.linear_model import LinearRegression\n",
    "from sklearn.metrics import mean_absolute_error\n",
    "from statsmodels.tsa.arima_model import ARIMA\n",
    "import matplotlib.pyplot as plt\n",
    "from sklearn.ensemble import RandomForestRegressor\n",
    "from sklearn.tree import DecisionTreeRegressor\n",
    "from sklearn.model_selection import ShuffleSplit\n",
    "from sklearn import preprocessing"
   ]
  },
  {
   "cell_type": "markdown",
   "metadata": {},
   "source": [
    "### Importing the data and computing daily statistic"
   ]
  },
  {
   "cell_type": "code",
   "execution_count": 2,
   "metadata": {},
   "outputs": [
    {
     "name": "stdout",
     "output_type": "stream",
     "text": [
      "The description of given dataset is: \n",
      "\n",
      "       MD confirmed  ME confirmed   MD deaths   ME deaths\n",
      "count    438.000000    438.000000  438.000000  438.000000\n",
      "mean     948.995434    117.511416   18.901826    1.700913\n",
      "std      828.666680    177.123801   21.217452    4.909669\n",
      "min        0.000000   -271.000000  -44.000000   -1.000000\n",
      "25%      436.250000     16.000000    5.000000    0.000000\n",
      "50%      734.000000     33.000000   12.000000    0.000000\n",
      "75%     1167.500000    178.000000   28.750000    2.000000\n",
      "max     3792.000000   1180.000000  162.000000   83.000000\n",
      "\n",
      "Starting Date is :  2020-01-22  Ending Date is : 2021-04-03\n",
      "\n",
      "Number of days: 438\n"
     ]
    }
   ],
   "source": [
    "#Importing the data\n",
    "data = pd.read_csv(\"./data/11.csv\")\n",
    "\n",
    "#Considering daily statistics \n",
    "data.iloc[:,1:] = data.iloc[:,1:].diff()\n",
    "data.iloc[0,1:] = 0.0\n",
    "\n",
    "print(\"The description of given dataset is: \\n\")\n",
    "print(data.describe())\n",
    "\n",
    "\n",
    "#Column names \n",
    "data.columns\n",
    "\n",
    "#Date Range and number of days for the given dataset is:\n",
    "print (\"\\nStarting Date is :  \"+str(data['Date'].min())+ \"  Ending Date is : \"+str(data['Date'].max()))\n",
    "print (\"\\nNumber of days: \"+str(len(data)))\n"
   ]
  },
  {
   "cell_type": "markdown",
   "metadata": {},
   "source": [
    "## Task 1: Data Preprocessing \n",
    "\n",
    "### Calculating number of missing values of the above 4 columns:"
   ]
  },
  {
   "cell_type": "code",
   "execution_count": 3,
   "metadata": {},
   "outputs": [
    {
     "name": "stdout",
     "output_type": "stream",
     "text": [
      "<class 'pandas.core.frame.DataFrame'>\n",
      "RangeIndex: 438 entries, 0 to 437\n",
      "Data columns (total 5 columns):\n",
      " #   Column        Non-Null Count  Dtype  \n",
      "---  ------        --------------  -----  \n",
      " 0   Date          438 non-null    object \n",
      " 1   MD confirmed  438 non-null    float64\n",
      " 2   ME confirmed  438 non-null    float64\n",
      " 3   MD deaths     438 non-null    float64\n",
      " 4   ME deaths     438 non-null    float64\n",
      "dtypes: float64(4), object(1)\n",
      "memory usage: 17.2+ KB\n",
      "None\n"
     ]
    }
   ],
   "source": [
    "#Data Preprocessing \n",
    "print(data.info())"
   ]
  },
  {
   "cell_type": "markdown",
   "metadata": {},
   "source": [
    "### Conclusion : \n",
    "#### Since there are no missing values, all 438 rows consists of non-null values, Data cleaning is not required"
   ]
  },
  {
   "cell_type": "markdown",
   "metadata": {},
   "source": [
    "## Task 1: Outlier Detection using Tukey's Rule"
   ]
  },
  {
   "cell_type": "code",
   "execution_count": 4,
   "metadata": {},
   "outputs": [
    {
     "name": "stdout",
     "output_type": "stream",
     "text": [
      "Outliers in Column MD confirmed : 47\n",
      "Outliers in Column ME confirmed : 30\n",
      "Outliers in Column MD deaths : 11\n",
      "Outliers in Column ME deaths : 33\n",
      "These are the number of rows that have Outliers when 0 is not considered to be an outlier: 74\n"
     ]
    }
   ],
   "source": [
    "\n",
    "#Function to display outliers \n",
    "\n",
    "\n",
    "def detect_outliers(data, numerical_attributes):\n",
    "    outlier_indices = []\n",
    "\n",
    "    for col in numerical_attributes:\n",
    "        #Computing the quartiles:\n",
    "        # 1st quartile (25%)\n",
    "        Q1 = np.percentile(data[col], 25)\n",
    "#         print(Q1)\n",
    "        # 3rd quartile (75%)\n",
    "        Q3 = np.percentile(data[col], 75)\n",
    "#         print(Q3)\n",
    "        # Interquartile range (IQR)\n",
    "        IQR = Q3 - Q1\n",
    "#         print(IQR)\n",
    "        # outlier step\n",
    "        outlier_step = 1.5 * IQR\n",
    "\n",
    "        # Determine a list of indices of outliers for feature col, not considering 0's\n",
    "        \n",
    "        outlier_list_col = sorted(data[((data[col] < Q1 - outlier_step) | (data[col] > Q3 + outlier_step)) & data[col] != 0].index)\n",
    "        # append the found outlier indices for col to the list of outlier indices \n",
    "        outlier_indices.extend(outlier_list_col)\n",
    "        print(\"Outliers in Column \"+str(col) + \" : \" + str(len(outlier_list_col)))\n",
    "    outlier_indices= list(set(outlier_indices))\n",
    "\n",
    "    return outlier_indices\n",
    "\n",
    "\n",
    "#The 4 columns of our interest are as follows:\n",
    "numerical_attributes = ['MD confirmed','ME confirmed','MD deaths','ME deaths']\n",
    "\n",
    "\n",
    "#Calling the function to detect outliers:\n",
    "outliers_in_data = detect_outliers(data, numerical_attributes)\n",
    "\n",
    "\n",
    "print(\"These are the number of rows that have Outliers when 0 is not considered to be an outlier:\", len(outliers_in_data))\n"
   ]
  },
  {
   "cell_type": "markdown",
   "metadata": {},
   "source": [
    "# Box Plots  "
   ]
  },
  {
   "cell_type": "code",
   "execution_count": 5,
   "metadata": {},
   "outputs": [
    {
     "data": {
      "image/png": "[encoded data removed]",
      "text/plain": [
       "<Figure size 432x288 with 1 Axes>"
      ]
     },
     "metadata": {
      "needs_background": "light"
     },
     "output_type": "display_data"
    }
   ],
   "source": [
    "fig1 = sns.boxplot(y=data['MD confirmed'])"
   ]
  },
  {
   "cell_type": "code",
   "execution_count": 6,
   "metadata": {},
   "outputs": [
    {
     "data": {
      "image/png": "[encoded data removed]",
      "text/plain": [
       "<Figure size 432x288 with 1 Axes>"
      ]
     },
     "metadata": {
      "needs_background": "light"
     },
     "output_type": "display_data"
    }
   ],
   "source": [
    "fig2 = sns.boxplot(y=data['ME confirmed'])"
   ]
  },
  {
   "cell_type": "code",
   "execution_count": 7,
   "metadata": {},
   "outputs": [
    {
     "data": {
      "image/png": "[encoded data removed]",
      "text/plain": [
       "<Figure size 432x288 with 1 Axes>"
      ]
     },
     "metadata": {
      "needs_background": "light"
     },
     "output_type": "display_data"
    }
   ],
   "source": [
    "fig3 = sns.boxplot(y=data['ME deaths'])"
   ]
  },
  {
   "cell_type": "code",
   "execution_count": 8,
   "metadata": {},
   "outputs": [
    {
     "data": {
      "image/png": "[encoded data removed]",
      "text/plain": [
       "<Figure size 432x288 with 1 Axes>"
      ]
     },
     "metadata": {
      "needs_background": "light"
     },
     "output_type": "display_data"
    }
   ],
   "source": [
    "fig4 = sns.boxplot(y=data['MD deaths'])"
   ]
  },
  {
   "cell_type": "markdown",
   "metadata": {},
   "source": [
    "# Removing Outliers"
   ]
  },
  {
   "cell_type": "code",
   "execution_count": 9,
   "metadata": {},
   "outputs": [
    {
     "name": "stdout",
     "output_type": "stream",
     "text": [
      "Dataset information after removing the outliers: \n",
      "\n",
      "       MD confirmed  ME confirmed   MD deaths   ME deaths\n",
      "count    364.000000    364.000000  364.000000  364.000000\n",
      "mean     681.873626     67.340659   14.197802    0.692308\n",
      "std      511.715438     87.677498   15.095815    1.102887\n",
      "min        0.000000    -81.000000   -8.000000   -1.000000\n",
      "25%      365.000000     14.000000    3.000000    0.000000\n",
      "50%      628.500000     28.500000   10.000000    0.000000\n",
      "75%      922.750000     85.000000   19.000000    1.000000\n",
      "max     2220.000000    401.000000   61.000000    5.000000\n",
      "\n",
      "\n",
      "As we can observe, initially there were 438 rows and now there are 364, we have removed 74 rows\n",
      "\n",
      "\n"
     ]
    }
   ],
   "source": [
    "#REMOVING THE ROWS THAT HAS OUTLIERS \n",
    "\n",
    "data= data[~data.index.isin(outliers_in_data)]\n",
    "\n",
    "print(\"Dataset information after removing the outliers: \\n\")\n",
    "print(data.describe())\n",
    "print(\"\\n\")\n",
    "\n",
    "print(\"As we can observe, initially there were 438 rows and now there are 364, we have removed 74 rows\")\n",
    "print(\"\\n\")"
   ]
  },
  {
   "cell_type": "markdown",
   "metadata": {},
   "source": [
    "# Plotting the curves for different columns\n"
   ]
  },
  {
   "cell_type": "code",
   "execution_count": 10,
   "metadata": {},
   "outputs": [
    {
     "data": {
      "text/plain": [
       "[<matplotlib.lines.Line2D at 0x7f9580464c10>]"
      ]
     },
     "execution_count": 10,
     "metadata": {},
     "output_type": "execute_result"
    },
    {
     "data": {
      "image/png": "[encoded data removed]",
      "text/plain": [
       "<Figure size 432x288 with 1 Axes>"
      ]
     },
     "metadata": {
      "needs_background": "light"
     },
     "output_type": "display_data"
    }
   ],
   "source": [
    "plt.plot(data['MD confirmed'])"
   ]
  },
  {
   "cell_type": "code",
   "execution_count": 11,
   "metadata": {},
   "outputs": [
    {
     "data": {
      "text/plain": [
       "[<matplotlib.lines.Line2D at 0x7f95905ed760>]"
      ]
     },
     "execution_count": 11,
     "metadata": {},
     "output_type": "execute_result"
    },
    {
     "data": {
      "image/png": "[encoded data removed]",
      "text/plain": [
       "<Figure size 432x288 with 1 Axes>"
      ]
     },
     "metadata": {
      "needs_background": "light"
     },
     "output_type": "display_data"
    }
   ],
   "source": [
    "plt.plot(data['ME confirmed'])"
   ]
  },
  {
   "cell_type": "code",
   "execution_count": 12,
   "metadata": {},
   "outputs": [
    {
     "data": {
      "text/plain": [
       "[<matplotlib.lines.Line2D at 0x7f957058aa00>]"
      ]
     },
     "execution_count": 12,
     "metadata": {},
     "output_type": "execute_result"
    },
    {
     "data": {
      "image/png": "[encoded data removed]",
      "text/plain": [
       "<Figure size 432x288 with 1 Axes>"
      ]
     },
     "metadata": {
      "needs_background": "light"
     },
     "output_type": "display_data"
    }
   ],
   "source": [
    "plt.plot(data['ME deaths'])"
   ]
  },
  {
   "cell_type": "code",
   "execution_count": 13,
   "metadata": {},
   "outputs": [
    {
     "data": {
      "text/plain": [
       "[<matplotlib.lines.Line2D at 0x7f95804bc490>]"
      ]
     },
     "execution_count": 13,
     "metadata": {},
     "output_type": "execute_result"
    },
    {
     "data": {
      "image/png": "[encoded data removed]",
      "text/plain": [
       "<Figure size 432x288 with 1 Axes>"
      ]
     },
     "metadata": {
      "needs_background": "light"
     },
     "output_type": "display_data"
    }
   ],
   "source": [
    "plt.plot(data['MD deaths'])"
   ]
  },
  {
   "cell_type": "markdown",
   "metadata": {},
   "source": [
    "# TASK 2a | Regression |  EWMA and AR\n",
    "\n",
    "In this task, we want to predict COVID19 stats for each state. Use the COVID19 dataset to predict the COVID19 \n",
    "fatality and #cases for the fourth week in August 2020 using data from the first three weeks of August 2020. \n",
    "Do this separately for each of the two states. Use the following four prediction techniques: (i) AR(3), (ii) AR(5), \n",
    "(iii) EWMA with alpha = 0.5, and (iv) EWMA with alpha = 0.8. Report the accuracy (MAPE as a % and MSE) of your \n",
    "predictions using the actual fourth week data. "
   ]
  },
  {
   "cell_type": "code",
   "execution_count": 14,
   "metadata": {},
   "outputs": [
    {
     "data": {
      "text/plain": [
       "pandas._libs.tslibs.timestamps.Timestamp"
      ]
     },
     "execution_count": 14,
     "metadata": {},
     "output_type": "execute_result"
    }
   ],
   "source": [
    "#CONVERT DATE TO DATETIME \n",
    "data.Date = pd.to_datetime(data.Date.values)\n",
    "data['Date'] = pd.to_datetime(data['Date'])\n",
    "type(data['Date'][0])"
   ]
  },
  {
   "cell_type": "code",
   "execution_count": 15,
   "metadata": {},
   "outputs": [],
   "source": [
    "augData = data.loc[(data['Date']>='2020-08-01') & (data['Date'] <= '2020-08-28')].reset_index(drop=True)"
   ]
  },
  {
   "cell_type": "code",
   "execution_count": 16,
   "metadata": {},
   "outputs": [],
   "source": [
    "def ewma(train, index, alpha):\n",
    "    ypred = []\n",
    "    ypred.append(train[index])\n",
    "    for i in range(1,7):\n",
    "        yi = (alpha * train[index+i]) + (1-alpha)*ypred[i-1]\n",
    "        ypred.append(yi)\n",
    "    return ypred\n",
    "\n",
    "def mape(ytrain, ypred) :\n",
    "    n = len(ypred)\n",
    "    sum = 0\n",
    "    for i in range (0,n):\n",
    "        if(ytrain[i]!=0):\n",
    "            temp = (np.abs(ytrain[i]-ypred[i]) / ytrain[i])*100\n",
    "            sum = sum + temp\n",
    "    return sum/n\n",
    "\n",
    "def mse(ytrain, ypred) :\n",
    "    n = len(ypred)\n",
    "    sum = 0\n",
    "    for i in range (0,n):\n",
    "        temp = (ytrain[i]-ypred[i])**2\n",
    "        sum = sum + temp\n",
    "    return sum/n\n",
    "\n",
    "\n",
    "def matrix_setup(values, p):\n",
    "    X_arr = []\n",
    "    Y_arr = []\n",
    "    for i in range(len(values) - p):\n",
    "        val = values[i:(i + p)]\n",
    "        val = [1] + val\n",
    "        X_arr.append(val)\n",
    "        Y_arr.append(values[i + p])\n",
    "    X_arr = np.array(X_arr)\n",
    "    Y_arr = np.array(Y_arr)\n",
    "    return X_arr, Y_arr\n",
    "\n",
    "def get_beta(X, Y):\n",
    "    Xt = np.transpose(X)\n",
    "    XtX = np.dot(Xt, X)\n",
    "    Xty = np.dot(Xt, Y)\n",
    "    beta = np.linalg.solve(XtX, Xty)\n",
    "    return beta\n",
    "\n",
    "\n",
    "def auto_regression(data, p):\n",
    "    X, Y = matrix_setup(data[:-7], p)\n",
    "    beta = get_beta(X, Y)\n",
    "    predictions = []\n",
    "    for i in range(len(data) - 7, len(data)):\n",
    "        value = data[i - p:i]\n",
    "        value = np.array([1] + value)\n",
    "        x = np.dot(beta, value)\n",
    "        predictions.append(x)\n",
    "        value = np.reshape(value, (1, p + 1))\n",
    "        X = np.append(X, list(value), axis=0)\n",
    "        Y = np.append(Y, data[i])\n",
    "        beta = get_beta(X, Y)\n",
    "    return predictions\n",
    "    "
   ]
  },
  {
   "cell_type": "code",
   "execution_count": 17,
   "metadata": {},
   "outputs": [],
   "source": [
    "def runAlgos(ytrain):  \n",
    "    mse_values = []\n",
    "    mape_values = []\n",
    "    seed_days = 21\n",
    "    ypred = auto_regression(ytrain, 3)\n",
    "    mape_values.append(mape(ytrain[-7:], ypred))\n",
    "    mse_values.append(mse(ytrain[-7:], ypred))\n",
    "    \n",
    "    ypred = auto_regression(ytrain, 5)\n",
    "    mape_values.append(mape(ytrain[-7:], ypred))\n",
    "    mse_values.append(mse(ytrain[-7:], ypred))\n",
    "    \n",
    "    ypred = ewma(ytrain, seed_days, 0.5)\n",
    "    mape_values.append(mape(ytrain[-7:], ypred))\n",
    "    mse_values.append(mse(ytrain[-7:], ypred))\n",
    "    \n",
    "    ypred = ewma(ytrain, seed_days, 0.8)\n",
    "    mape_values.append(mape(ytrain[-7:], ypred))\n",
    "    mse_values.append(mse(ytrain[-7:], ypred))\n",
    "    \n",
    "    return (mape_values + mse_values)"
   ]
  },
  {
   "cell_type": "code",
   "execution_count": 18,
   "metadata": {},
   "outputs": [
    {
     "name": "stdout",
     "output_type": "stream",
     "text": [
      "Solution Task 2a: \n",
      "\n"
     ]
    },
    {
     "data": {
      "text/html": [
       "<div>\n",
       "<style scoped>\n",
       "    .dataframe tbody tr th:only-of-type {\n",
       "        vertical-align: middle;\n",
       "    }\n",
       "\n",
       "    .dataframe tbody tr th {\n",
       "        vertical-align: top;\n",
       "    }\n",
       "\n",
       "    .dataframe thead th {\n",
       "        text-align: right;\n",
       "    }\n",
       "</style>\n",
       "<table border=\"1\" class=\"dataframe\">\n",
       "  <thead>\n",
       "    <tr style=\"text-align: right;\">\n",
       "      <th></th>\n",
       "      <th>results</th>\n",
       "      <th>MD confirmed</th>\n",
       "      <th>ME confirmed</th>\n",
       "      <th>MD deaths</th>\n",
       "      <th>ME deaths</th>\n",
       "    </tr>\n",
       "  </thead>\n",
       "  <tbody>\n",
       "    <tr>\n",
       "      <th>0</th>\n",
       "      <td>AR(3)_MAPE</td>\n",
       "      <td>19.037603</td>\n",
       "      <td>31.221876</td>\n",
       "      <td>32.856122</td>\n",
       "      <td>42.322017</td>\n",
       "    </tr>\n",
       "    <tr>\n",
       "      <th>1</th>\n",
       "      <td>AR(5)_MAPE</td>\n",
       "      <td>16.127853</td>\n",
       "      <td>18.421760</td>\n",
       "      <td>42.783541</td>\n",
       "      <td>54.164629</td>\n",
       "    </tr>\n",
       "    <tr>\n",
       "      <th>2</th>\n",
       "      <td>EWMA_0.5_MAPE</td>\n",
       "      <td>7.999098</td>\n",
       "      <td>16.182875</td>\n",
       "      <td>14.591837</td>\n",
       "      <td>5.357143</td>\n",
       "    </tr>\n",
       "    <tr>\n",
       "      <th>3</th>\n",
       "      <td>EWMA_0.8_MAPE</td>\n",
       "      <td>2.907792</td>\n",
       "      <td>6.210440</td>\n",
       "      <td>6.736472</td>\n",
       "      <td>2.742857</td>\n",
       "    </tr>\n",
       "    <tr>\n",
       "      <th>4</th>\n",
       "      <td>AR(3)_MSE</td>\n",
       "      <td>12424.173191</td>\n",
       "      <td>50.211460</td>\n",
       "      <td>8.048529</td>\n",
       "      <td>0.661073</td>\n",
       "    </tr>\n",
       "    <tr>\n",
       "      <th>5</th>\n",
       "      <td>AR(5)_MSE</td>\n",
       "      <td>8612.425506</td>\n",
       "      <td>33.256144</td>\n",
       "      <td>12.936140</td>\n",
       "      <td>0.735753</td>\n",
       "    </tr>\n",
       "    <tr>\n",
       "      <th>6</th>\n",
       "      <td>EWMA_0.5_MSE</td>\n",
       "      <td>2436.238177</td>\n",
       "      <td>13.511719</td>\n",
       "      <td>2.538504</td>\n",
       "      <td>0.082171</td>\n",
       "    </tr>\n",
       "    <tr>\n",
       "      <th>7</th>\n",
       "      <td>EWMA_0.8_MSE</td>\n",
       "      <td>363.553724</td>\n",
       "      <td>2.039353</td>\n",
       "      <td>0.446335</td>\n",
       "      <td>0.015089</td>\n",
       "    </tr>\n",
       "  </tbody>\n",
       "</table>\n",
       "</div>"
      ],
      "text/plain": [
       "         results  MD confirmed  ME confirmed  MD deaths  ME deaths\n",
       "0     AR(3)_MAPE     19.037603     31.221876  32.856122  42.322017\n",
       "1     AR(5)_MAPE     16.127853     18.421760  42.783541  54.164629\n",
       "2  EWMA_0.5_MAPE      7.999098     16.182875  14.591837   5.357143\n",
       "3  EWMA_0.8_MAPE      2.907792      6.210440   6.736472   2.742857\n",
       "4      AR(3)_MSE  12424.173191     50.211460   8.048529   0.661073\n",
       "5      AR(5)_MSE   8612.425506     33.256144  12.936140   0.735753\n",
       "6   EWMA_0.5_MSE   2436.238177     13.511719   2.538504   0.082171\n",
       "7   EWMA_0.8_MSE    363.553724      2.039353   0.446335   0.015089"
      ]
     },
     "metadata": {},
     "output_type": "display_data"
    }
   ],
   "source": [
    "results = [\"AR(3)_MAPE\",\n",
    "\"AR(5)_MAPE\",\n",
    "\"EWMA_0.5_MAPE\",\n",
    "\"EWMA_0.8_MAPE\",\n",
    "\"AR(3)_MSE\",\n",
    "\"AR(5)_MSE\",\n",
    "\"EWMA_0.5_MSE\",\n",
    "\"EWMA_0.8_MSE\"]\n",
    "\n",
    "a = runAlgos(augData['MD confirmed'].to_list())\n",
    "b = runAlgos(augData['ME confirmed'].to_list())\n",
    "c = runAlgos(augData['MD deaths'].to_list())\n",
    "d = runAlgos(augData['ME deaths'].to_list())\n",
    "\n",
    "final_result = pd.DataFrame({\n",
    "    'results':results,\n",
    "    'MD confirmed': a,\n",
    "    'ME confirmed': b,\n",
    "    'MD deaths': c,\n",
    "    'ME deaths': d,\n",
    "})\n",
    "\n",
    "print(\"Solution Task 2a: \\n\")\n",
    "\n",
    "display(final_result)\n"
   ]
  },
  {
   "cell_type": "markdown",
   "metadata": {},
   "source": [
    "The above table shows the MAPE and MSE values of predictions using AR and EWMA for state of Maryland and Maine confirmed and death cases."
   ]
  },
  {
   "cell_type": "markdown",
   "metadata": {},
   "source": [
    "# TASK 2b"
   ]
  },
  {
   "cell_type": "markdown",
   "metadata": {},
   "source": [
    "In this step, we want to check, for each state, how the mean of monthly COVID19 stats has changed between\n",
    "Feb 2021 and March 2021. Apply the Wald’s test, Z-test, and t-test (assume all are applicable) to check whether\n",
    "the mean of COVID19 deaths and #cases are different for Feb’21 and March’21 in the two states. That is, we are\n",
    "checking, for each state separately, whether the mean of daily cases and the mean of daily deaths for Feb’21 is\n",
    "different from the corresponding mean of daily values for March’21. Use MLE for Wald’s test as the estimator; \n",
    "assume for Wald’s estimator purposes that daily data is Poisson distributed. Note, you have to report results for \n",
    "deaths and #cases in both states separately. After running the test and reporting the numbers, check and comment on \n",
    "whether the tests are applicable or not. First use one-sample tests for Wald’s, Z-test, and t-test by computing the\n",
    "sample mean of daily values from Feb’21 and using that as a guess for mean of daily values for March’21; here, your \n",
    "sample data for computing sample mean will be the 28 daily values in Feb’21 whereas your sample data for running the \n",
    "test will be the 31 daily values of March’21. Then, repeat with the two-sample version of Wald’s and two-sample \n",
    "unpaired t-test (here, your two samples will be the 28 values of Feb’21 and the 31 values of March’21). \n",
    "Use α=0.05 for all. For t-test, the threshold to check against is tn-1,α/2 for two-tailed, where n is the number \n",
    "of data points. You can find these values in online t tables, similar to z tables. For Z-test, use the corrected \n",
    "sample standard deviation of the entire COVID19 dataset you have for each state as the true sigma value."
   ]
  },
  {
   "cell_type": "code",
   "execution_count": 19,
   "metadata": {},
   "outputs": [
    {
     "name": "stdout",
     "output_type": "stream",
     "text": [
      "Number of data points for February month: 25\n",
      "Number of data points for March month: 30\n"
     ]
    }
   ],
   "source": [
    "\n",
    "#Considering data only for February and March months for year 2021\n",
    "feb_cases = data[(data.Date > '2021-01-31') & (data.Date < '2021-03-01')]\n",
    "\n",
    "feb_md_cases = feb_cases['MD confirmed']\n",
    "feb_md_deaths = feb_cases['MD deaths']\n",
    "\n",
    "feb_me_cases = feb_cases['ME confirmed']\n",
    "feb_me_deaths = feb_cases['ME deaths']\n",
    "\n",
    "\n",
    "\n",
    "march_cases = data[(data.Date > '2021-02-28') & (data.Date < '2021-04-01')]\n",
    "\n",
    "\n",
    "march_md_cases = march_cases['MD confirmed']\n",
    "march_md_deaths = march_cases['MD deaths']\n",
    "\n",
    "march_me_cases = march_cases['ME confirmed']\n",
    "march_me_deaths = march_cases['ME deaths']\n",
    "print(\"Number of data points for February month: \"+str(len(feb_cases)))\n",
    "print(\"Number of data points for March month: \"+str(len(march_cases)))"
   ]
  },
  {
   "cell_type": "markdown",
   "metadata": {},
   "source": [
    "# Wald's one sample Test"
   ]
  },
  {
   "cell_type": "markdown",
   "metadata": {},
   "source": [
    "### Procedure:\n",
    "We have calculated the W statistic and compared it with the threshold value of z_alpha/2 = 1.96. The estimator is calculated using MLE of March month's mean(Since for Poisson-distributed data, MLE estimator is lamda_hat which is equal to sample mean). The guess of the estimator is February month's mean. The standard error of the estimator is calculated in below walds function.\n",
    "\n",
    "\n",
    "##### Null Hypothesis is (H0):\n",
    "Mean of February 2021's cases/deaths = Mean of March 2021's cases/deaths.\n",
    "\n",
    "##### Alternate Hypothesis is (H1):\n",
    "Mean of February 2021's cases/deaths is not equal to Mean of March 2021's cases/deaths.\n",
    "\n"
   ]
  },
  {
   "cell_type": "code",
   "execution_count": 20,
   "metadata": {},
   "outputs": [],
   "source": [
    "#Defining Wald's test \n",
    "#Assuming poisson's distribution \n",
    "\n",
    "def walds_test(feb, march):\n",
    "    \n",
    "    feb_mean = feb.mean()\n",
    "    march_mean = march.mean()\n",
    "    print(\"February Month Mean: \"+str(feb_mean))\n",
    "    print(\"March Month Mean: \"+str(march_mean))\n",
    "    #Variance and mean are equal for poisson distribution\n",
    "    standard_error = math.sqrt(march_mean/len(march))\n",
    "    #computing the W statistic \n",
    "    W = np.abs((march_mean - feb_mean)/standard_error)\n",
    "    Z_alpha = 1.96\n",
    "    if(W <= 1.96):\n",
    "        return \"Accept Ho since the value of W statistic \"+ str(W)+\" is less than threshold value 1.96\"\n",
    "    else:\n",
    "        return \"Reject Ho since the value of W statistic \"+ str(W)+\" is greater than threshold value 1.96\"\n",
    "\n",
    "\n"
   ]
  },
  {
   "cell_type": "code",
   "execution_count": 21,
   "metadata": {},
   "outputs": [
    {
     "name": "stdout",
     "output_type": "stream",
     "text": [
      "Procedure:\n",
      "\n",
      "Results for every column:\n",
      "Maryland Confirmed Cases\n",
      "February Month Mean: 985.0\n",
      "March Month Mean: 953.7333333333333\n",
      "Reject Ho since the value of W statistic 5.545347036864493 is greater than threshold value 1.96\n",
      "\n",
      "\n",
      "Maryland Deaths\n",
      "February Month Mean: 24.36\n",
      "March Month Mean: 12.9\n",
      "Reject Ho since the value of W statistic 17.476336160116492 is greater than threshold value 1.96\n",
      "\n",
      "\n",
      "Maine Confirmed Cases\n",
      "February Month Mean: 172.04\n",
      "March Month Mean: 191.2\n",
      "Reject Ho since the value of W statistic 7.589482923495189 is greater than threshold value 1.96\n",
      "\n",
      "\n",
      "Maine Deaths\n",
      "February Month Mean: 1.44\n",
      "March Month Mean: 0.8\n",
      "Reject Ho since the value of W statistic 3.919183588453084 is greater than threshold value 1.96\n",
      "\n",
      "\n"
     ]
    }
   ],
   "source": [
    "\n",
    "print(\"Procedure:\")\n",
    "print(\"\")\n",
    "print(\"Results for every column:\")\n",
    "print(\"Maryland Confirmed Cases\")\n",
    "print(walds_test(feb_md_cases,march_md_cases))\n",
    "print(\"\\n\")\n",
    "print(\"Maryland Deaths\")\n",
    "print(walds_test(feb_md_deaths,march_md_deaths))\n",
    "print(\"\\n\")\n",
    "print(\"Maine Confirmed Cases\")\n",
    "print(walds_test(feb_me_cases,march_me_cases))\n",
    "print(\"\\n\")\n",
    "print(\"Maine Deaths\")\n",
    "print(walds_test(feb_me_deaths,march_me_deaths))\n",
    "print(\"\\n\")"
   ]
  },
  {
   "cell_type": "markdown",
   "metadata": {},
   "source": [
    "### Observation:\n",
    "The W values returned here are quite high. We cannot conclude that mean of March month is equal to that of February 2021.\n"
   ]
  },
  {
   "cell_type": "markdown",
   "metadata": {},
   "source": [
    "### Is the Test Applicable?\n",
    "\n",
    "#### The Wald's test is not applicable here because it assumes that the estimator is asymptotically normal. And the number of datapoints do not tend to infinity. "
   ]
  },
  {
   "cell_type": "markdown",
   "metadata": {},
   "source": [
    "# Z Test"
   ]
  },
  {
   "cell_type": "markdown",
   "metadata": {},
   "source": [
    "\n",
    "### Procedure:\n",
    "We have calculated the Z statistic and compared it with the threshold value of z_alpha/2 = 1.96. We have used corrected sample standard deviation of entire dataset as true variance. Therefore the ddof value for np.var() is set to 1. The MLE for March month's mean is calculated and February month's mean is used as a guess value. \n",
    "\n",
    "##### Null Hypothesis is (H0):\n",
    "Mean of February 2021's cases/deaths = Mean of March 2021's cases/deaths.\n",
    "\n",
    "##### Alternate Hypothesis is (H1):\n",
    "Mean of February 2021's cases/deaths is not equal to Mean of March 2021's cases/deaths.\n"
   ]
  },
  {
   "cell_type": "code",
   "execution_count": 22,
   "metadata": {},
   "outputs": [],
   "source": [
    "#Defining the Z test \n",
    "\n",
    "def z_test(feb,march,true_variance):\n",
    "    feb_mean = feb.mean()\n",
    "    march_mean = march.mean()\n",
    "    print(\"February Month Mean: \"+str(feb_mean))\n",
    "    print(\"March Month Mean: \"+str(march_mean))\n",
    "\n",
    "    standard_error = math.sqrt(true_variance/len(march))\n",
    "    #computing the Z statistic \n",
    "    Z = np.abs((march_mean - feb_mean)/standard_error)\n",
    "    Z_alpha = 1.96\n",
    "    if(Z <= 1.96):\n",
    "        return \"Accept Ho since Z value is : \"+ str(Z)\n",
    "    else:\n",
    "        return \"Reject Ho since Z value is : \"+ str(Z)\n",
    "\n"
   ]
  },
  {
   "cell_type": "code",
   "execution_count": 23,
   "metadata": {},
   "outputs": [
    {
     "name": "stdout",
     "output_type": "stream",
     "text": [
      "Results:\n",
      "\n",
      "Maryland Confirmed Cases\n",
      "February Month Mean: 985.0\n",
      "March Month Mean: 953.7333333333333\n",
      "Accept Ho since Z value is : 0.3346676173580841\n",
      "\n",
      "\n",
      "Maryland Deaths\n",
      "February Month Mean: 24.36\n",
      "March Month Mean: 12.9\n",
      "Reject Ho since Z value is : 4.158040155604431\n",
      "\n",
      "\n",
      "Maine Confirmed Cases\n",
      "February Month Mean: 172.04\n",
      "March Month Mean: 191.2\n",
      "Accept Ho since Z value is : 1.1969278800117022\n",
      "\n",
      "\n",
      "Maine Deaths\n",
      "February Month Mean: 1.44\n",
      "March Month Mean: 0.8\n",
      "Reject Ho since Z value is : 3.1784079901605407\n",
      "\n",
      "\n"
     ]
    }
   ],
   "source": [
    "\n",
    "print(\"Results:\\n\")\n",
    "print(\"Maryland Confirmed Cases\")\n",
    "true_variance_md = np.var(data['MD confirmed'],ddof = 1)\n",
    "print(z_test(feb_md_cases,march_md_cases,true_variance_md))\n",
    "print(\"\\n\")\n",
    "print(\"Maryland Deaths\")\n",
    "true_variance_md2 = np.var(data['MD deaths'], ddof =1)\n",
    "print(z_test(feb_md_deaths,march_md_deaths,true_variance_md2))\n",
    "print(\"\\n\")\n",
    "print(\"Maine Confirmed Cases\")\n",
    "true_variance_me = np.var(data['ME confirmed'], ddof=1)\n",
    "print(z_test(feb_me_cases,march_me_cases,true_variance_me))\n",
    "print(\"\\n\")\n",
    "print(\"Maine Deaths\")\n",
    "true_variance_me2 = np.var(data['ME deaths'],ddof=1)\n",
    "print(z_test(feb_me_deaths,march_me_deaths,true_variance_me2))\n",
    "print(\"\\n\")"
   ]
  },
  {
   "cell_type": "markdown",
   "metadata": {},
   "source": [
    "### Is the Test Applicable?\n",
    "\n",
    "#### The main assumptions of Z-test are either the sample data has to be normally distributed or the sample size should be large. However, both of them are not true in our case. Also, we should know the value of true variance. Therefore the Z-test is not applicable here.\n",
    "\n"
   ]
  },
  {
   "cell_type": "markdown",
   "metadata": {},
   "source": [
    "# One Sample T-test"
   ]
  },
  {
   "cell_type": "markdown",
   "metadata": {},
   "source": [
    "### Procedure:\n",
    "We have calculated the T statistic and compared it with the threshold value which we checked in the online table for alpha/2 = 0.025 and degree of freedom as 29 = 2.04523. The estimator is calculated using MLE of March month's mean(Since for Poisson-distributed data, MLE estimator is lamda_hat which is equal to sample mean). The guess of the estimator is February month's mean. We have also calculated sample standard deviation in the below function.\n",
    "\n",
    "\n",
    "##### Null Hypothesis is (H0):\n",
    "Mean of February 2021's cases/deaths = Mean of March 2021's cases/deaths.\n",
    "\n",
    "##### Alternate Hypothesis is (H1):\n",
    "Mean of February 2021's cases/deaths is not equal to Mean of March 2021's cases/deaths."
   ]
  },
  {
   "cell_type": "code",
   "execution_count": 24,
   "metadata": {},
   "outputs": [],
   "source": [
    "#T test \n",
    "\n",
    "def t_test(feb,march):\n",
    "    feb_mean = feb.mean()\n",
    "    march_mean = march.mean()\n",
    "    \n",
    "    sample_standard_deviation = np.sqrt(np.sum(np.square(march - march_mean))/(len(march)-1))\n",
    "    denominator = sample_standard_deviation/math.sqrt(len(march))\n",
    "    #computing the T statistic \n",
    "    T = np.abs((march_mean - feb_mean)/denominator)\n",
    "    T_alpha = 2.04523\n",
    "    if(T <= 2.04523):\n",
    "        return \"Accept Ho since T value is \"+ str(T)\n",
    "    else:\n",
    "        return \"Reject Ho since T value is \"+ str(T)"
   ]
  },
  {
   "cell_type": "code",
   "execution_count": 25,
   "metadata": {},
   "outputs": [
    {
     "name": "stdout",
     "output_type": "stream",
     "text": [
      "The number of data points for the March month is : 30\n",
      "Therefore the threshold value for T test for degree of freedom 29 and alpha/2 = 0.025 is 2.04523\n",
      "Maryland Confirmed Cases\n",
      "Accept Ho since T value is 0.6744123763943285\n",
      "\n",
      "\n",
      "Maryland Deaths\n",
      "Reject Ho since T value is 7.022784543254033\n",
      "\n",
      "\n",
      "Maine Confirmed Cases\n",
      "Reject Ho since T value is 3.0242176162319776\n",
      "\n",
      "\n",
      "Maine Deaths\n",
      "Reject Ho since T value is 2.5979012508351635\n",
      "\n",
      "\n"
     ]
    }
   ],
   "source": [
    "print(\"The number of data points for the March month is : \" +str(len(march_cases)))\n",
    "print(\"Therefore the threshold value for T test for degree of freedom 29 and alpha/2 = 0.025 is 2.04523\")\n",
    "print(\"Maryland Confirmed Cases\")\n",
    "print(t_test(feb_md_cases,march_md_cases))\n",
    "print(\"\\n\")\n",
    "print(\"Maryland Deaths\")\n",
    "print(t_test(feb_md_deaths,march_md_deaths))\n",
    "print(\"\\n\")\n",
    "print(\"Maine Confirmed Cases\")\n",
    "print(t_test(feb_me_cases,march_me_cases))\n",
    "print(\"\\n\")\n",
    "print(\"Maine Deaths\")\n",
    "print(t_test(feb_me_deaths,march_me_deaths))\n",
    "print(\"\\n\")"
   ]
  },
  {
   "cell_type": "markdown",
   "metadata": {},
   "source": [
    "### Is the Test Applicable?\n",
    "\n",
    "#### Even though the sample size is small, T test is not applicable here because the data does not follow normal distribution."
   ]
  },
  {
   "cell_type": "markdown",
   "metadata": {},
   "source": [
    "# 2 Sample Wald's Test"
   ]
  },
  {
   "cell_type": "markdown",
   "metadata": {},
   "source": [
    "### Procedure:\n",
    "Similar to one sampled Wald's test, We have calculated the W statistic and compared it with the threshold value of z_alpha/2 = 1.96. The guess value theta0 is 0. And the difference between mean is difference between the sample means since we know that the data is Poisson distributed. We have also computed standard error for both months as shown below. \n",
    "\n",
    "##### Null Hypothesis is (H0):\n",
    "The difference between mean of February 2021 and March 2021 is 0. \n",
    "\n",
    "##### Alternate Hypothesis is (H1):\n",
    "The difference between mean of February 2021 and March 2021 is not 0. "
   ]
  },
  {
   "cell_type": "code",
   "execution_count": 26,
   "metadata": {},
   "outputs": [],
   "source": [
    "#2 SAMPLE TESTS \n",
    "\n",
    "#Walds Test \n",
    "#null hypothesis is that both the means are equal, so theta0 = 0\n",
    "\n",
    "\n",
    "def walds_test_2(feb,march):\n",
    "    feb_mean = feb.mean()\n",
    "    march_mean = march.mean()\n",
    "    \n",
    "    standard_error = np.sqrt((feb_mean/len(feb)) + march_mean/len(march))\n",
    "    #w value of waltz\n",
    "    W = np.abs((feb_mean - march_mean)/standard_error)\n",
    "    Z_alpha = 1.96\n",
    "    if(W <= Z_alpha):\n",
    "        return \"Accept Ho \"+ str(W)\n",
    "    else:\n",
    "        return \"Reject Ho \"+ str(W)\n"
   ]
  },
  {
   "cell_type": "code",
   "execution_count": 27,
   "metadata": {},
   "outputs": [
    {
     "name": "stdout",
     "output_type": "stream",
     "text": [
      "Maryland Confirmed Cases\n",
      "Reject Ho 3.705686693703895\n",
      "\n",
      "\n",
      "Maryland Deaths\n",
      "Reject Ho 9.67028352048492\n",
      "\n",
      "\n",
      "Maine Confirmed Cases\n",
      "Reject Ho 5.26267718317108\n",
      "\n",
      "\n",
      "Maine Deaths\n",
      "Reject Ho 2.2047130184382016\n",
      "\n",
      "\n"
     ]
    }
   ],
   "source": [
    "print(\"Maryland Confirmed Cases\")\n",
    "print(walds_test_2(feb_md_cases,march_md_cases))\n",
    "print(\"\\n\")\n",
    "print(\"Maryland Deaths\")\n",
    "print(walds_test_2(feb_md_deaths,march_md_deaths))\n",
    "print(\"\\n\")\n",
    "print(\"Maine Confirmed Cases\")\n",
    "print(walds_test_2(feb_me_cases,march_me_cases))\n",
    "print(\"\\n\")\n",
    "print(\"Maine Deaths\")\n",
    "print(walds_test_2(feb_me_deaths,march_me_deaths))\n",
    "print(\"\\n\")"
   ]
  },
  {
   "cell_type": "markdown",
   "metadata": {},
   "source": [
    "### Is the Test Applicable?\n",
    "\n",
    "The two sample Wald's test is not applicable here because it assumes that the estimator is asymptotically normal. Both the estimators here are not asymptotically normal. The number of data samples do not tend to infinity. "
   ]
  },
  {
   "cell_type": "markdown",
   "metadata": {},
   "source": [
    "# Unpaired T test"
   ]
  },
  {
   "cell_type": "markdown",
   "metadata": {},
   "source": [
    "### Procedure:\n",
    "We have calculated the T statistic and compared it with the threshold value which we checked in the online table for alpha/2 = 0.025 and degree of freedom as (n+m - 2) = 2.30687. We have also calculated sample pooled standard deviation required for unpaired T test. \n",
    "\n",
    "##### Null Hypothesis is (H0):\n",
    "The difference between mean of February 2021 and March 2021 is 0. \n",
    "\n",
    "##### Alternate Hypothesis is (H1):\n",
    "The difference between mean of February 2021 and March 2021 is not 0. "
   ]
  },
  {
   "cell_type": "code",
   "execution_count": 28,
   "metadata": {},
   "outputs": [],
   "source": [
    "#Unpaired T test \n",
    "\n",
    "def t_test_2(feb,march):\n",
    "    feb_mean = feb.mean()\n",
    "    march_mean = march.mean()\n",
    "    D = feb_mean - march_mean\n",
    "    \n",
    "    standard_deviation_feb_square = (1/(len(feb)-1))*np.sum(np.square(feb-feb_mean))\n",
    "    standard_deviation_march_square = (1/(len(march)-1))*np.sum(np.square(march-march_mean))\n",
    "    \n",
    "    sample_pooled_standard_deviation = np.sqrt((standard_deviation_feb_square/len(feb)) + (standard_deviation_march_square/len(march)))\n",
    "    \n",
    "    #Calculating the T statistic:\n",
    "    T = np.abs(D/sample_pooled_standard_deviation)\n",
    "    T_alpha = 2.30687\n",
    "    if(T <= 2.30687):\n",
    "        return \"Accept Ho \"+ str(T)\n",
    "    else:\n",
    "        return \"Reject Ho \"+ str(T)"
   ]
  },
  {
   "cell_type": "code",
   "execution_count": 29,
   "metadata": {},
   "outputs": [
    {
     "name": "stdout",
     "output_type": "stream",
     "text": [
      "Results:\n",
      "\n",
      "Maryland Confirmed Cases\n",
      "Accept Ho 0.4095100069811185\n",
      "\n",
      "\n",
      "Maryland Deaths\n",
      "Reject Ho 3.5024739576848214\n",
      "\n",
      "\n",
      "Maine Confirmed Cases\n",
      "Accept Ho 1.2530538550788899\n",
      "\n",
      "\n",
      "Maine Deaths\n",
      "Accept Ho 1.9508660467069798\n"
     ]
    }
   ],
   "source": [
    "print(\"Results:\\n\")\n",
    "print(\"Maryland Confirmed Cases\")\n",
    "print(t_test_2(feb_md_cases,march_md_cases))\n",
    "print(\"\\n\")\n",
    "print(\"Maryland Deaths\")\n",
    "print(t_test_2(feb_md_deaths,march_md_deaths))\n",
    "print(\"\\n\")\n",
    "print(\"Maine Confirmed Cases\")\n",
    "print(t_test_2(feb_me_cases,march_me_cases))\n",
    "print(\"\\n\")\n",
    "print(\"Maine Deaths\")\n",
    "print(t_test_2(feb_me_deaths,march_me_deaths))"
   ]
  },
  {
   "cell_type": "markdown",
   "metadata": {},
   "source": [
    "### Is the Test Applicable?\n",
    "\n",
    "As discussed for one sample T test, the two sample T test is also not applicable here because the data does not follow a normal distribution."
   ]
  },
  {
   "cell_type": "markdown",
   "metadata": {},
   "source": [
    "# Task 2c"
   ]
  },
  {
   "cell_type": "markdown",
   "metadata": {},
   "source": [
    "Inference the equality of distributions in the two states (distribution of daily #cases and daily #deaths) for the last three months of 2020 (Oct, Nov, Dec) of your dataset using K-S test and Permutation test. For the K-S test, use both 1-sample and 2-sample tests. For the 1-sample test, try Poisson, Geometric, and Binomial. To obtain parameters of these distributions to check against in 1-sample KS, use MME on the Oct-Dec 2020 data of the first state in your dataset to obtain parameters of the distribution, and then check whether the Oct-Dec 2020 data for the second state in your dataset has the distribution with the obtained MME parameters. For the permutation test, use 1000 permutations. Use a threshold of 0.05 for both K-S test and Permutation test."
   ]
  },
  {
   "cell_type": "code",
   "execution_count": 30,
   "metadata": {},
   "outputs": [],
   "source": [
    "def get_xy(x):\n",
    "\n",
    "  n = len(x)\n",
    "  x = sorted(x)\n",
    "  x_cdf = []\n",
    "  y_cdf = []\n",
    "  y_curr = 0\n",
    "\n",
    "  x_cdf.append(0)\n",
    "  y_cdf.append(0)\n",
    "\n",
    "  for i in x:\n",
    "    y_curr += 1/n\n",
    "    y_cdf.append(y_curr)\n",
    "    x_cdf.append(i)\n",
    "\n",
    "  return x_cdf,y_cdf\n",
    "\n",
    "def draw_ecdf(x1, y1, x2, y2, max_diff, max_ind):\n",
    "    plt.figure(figsize=(20,10))\n",
    "    plt.step(x1, y1, where=\"post\", label=\"CDF-D1\")\n",
    "    plt.step(x2, y2, where=\"post\", label=\"CDF-D2\")\n",
    "    # plt.xticks(x1 + x2, rotation = 90)\n",
    "    plt.yticks(np.arange(0, 1.1, 1/10))\n",
    "    plt.title(\"Empirical CDF\")\n",
    "    plt.xlabel(\"Sample Points\")\n",
    "    plt.ylabel(\"Pr[X<x]\")\n",
    "    plt.scatter([max_ind],[0], color='red', marker='x', s=100, label=f'Max Diff {max_diff} at {max_ind}')\n",
    "    # plt.scatter(x, [0]*len(x), color='red', marker='x', s=100, label='samples')\n",
    "    plt.grid(which=\"both\")\n",
    "    plt.legend()\n",
    "    plt.show()\n",
    "    \n",
    "def ks_2_sample_test(data1,data2, threshold=0.05, draw=True):\n",
    "  x1, y1 = get_xy(data1)\n",
    "  x2, y2 = get_xy(data2)\n",
    "\n",
    "  n = int(min([max(x1),max(x2)])) +10\n",
    "\n",
    "  y1_all = []\n",
    "  temp=0\n",
    "  for i in np.arange(n):\n",
    "    ind = np.where(np.array(x1) == i)[0]\n",
    "    if len(ind)==0:\n",
    "      y1_all.append(temp)\n",
    "    else:\n",
    "      y1_all.append(y1[ind[-1]])\n",
    "      temp = y1[ind[-1]]\n",
    "\n",
    "  y2_all = []\n",
    "  temp=0\n",
    "  for i in np.arange(n):\n",
    "    ind = np.where(np.array(x2) == i)[0]\n",
    "    if len(ind)==0:\n",
    "      y2_all.append(temp)\n",
    "    else:\n",
    "      y2_all.append(y2[ind[-1]])\n",
    "      temp = y2[ind[-1]]\n",
    "\n",
    "  diff=[]\n",
    "  for i in range(n):\n",
    "    diff.append( np.absolute( y1_all[i] - y2_all[i]  ) )\n",
    "\n",
    "  max_diff = np.max(diff)\n",
    "\n",
    "  max_ind = np.argmax(diff)\n",
    "\n",
    "  if draw:\n",
    "    draw_ecdf(x1,y1,x2,y2, max_diff, max_ind)\n",
    "\n",
    "  if max_diff > threshold:\n",
    "    print(f\"Max value = {max_diff} > C: {threshold}, We reject H0\")\n",
    "  else:\n",
    "    print(f\"Max value = {max_diff} <= C: {threshold}, We reject H0\")\n",
    "    "
   ]
  },
  {
   "cell_type": "code",
   "execution_count": 31,
   "metadata": {},
   "outputs": [
    {
     "data": {
      "image/png": "[encoded data removed]",
      "text/plain": [
       "<Figure size 1440x720 with 1 Axes>"
      ]
     },
     "metadata": {
      "needs_background": "light"
     },
     "output_type": "display_data"
    },
    {
     "name": "stdout",
     "output_type": "stream",
     "text": [
      "Max value = 0.7582417582417555 > C: 0.05, We reject H0\n"
     ]
    }
   ],
   "source": [
    "ks_2_sample_test(data['MD confirmed'].values, data['ME confirmed'].values)"
   ]
  },
  {
   "cell_type": "markdown",
   "metadata": {},
   "source": [
    "## Result:\n",
    "\n",
    "#### Max value = 0.7032967032967008 > C: 0.05, We reject H0: The distribution of confirmed cases in MD and ME for last three months is same. "
   ]
  },
  {
   "cell_type": "code",
   "execution_count": 32,
   "metadata": {},
   "outputs": [
    {
     "data": {
      "image/png": "[encoded data removed]",
      "text/plain": [
       "<Figure size 1440x720 with 1 Axes>"
      ]
     },
     "metadata": {
      "needs_background": "light"
     },
     "output_type": "display_data"
    },
    {
     "name": "stdout",
     "output_type": "stream",
     "text": [
      "Max value = 0.7032967032967008 > C: 0.05, We reject H0\n"
     ]
    }
   ],
   "source": [
    "ks_2_sample_test(data['MD deaths'].values, data['ME deaths'].values)"
   ]
  },
  {
   "cell_type": "markdown",
   "metadata": {},
   "source": [
    "## Result:\n",
    "\n",
    "#### Max value = 0.7032967032967008 > C: 0.05, We reject H0: The distribution of deaths in MD and ME for last three months is same. "
   ]
  },
  {
   "cell_type": "code",
   "execution_count": 33,
   "metadata": {},
   "outputs": [],
   "source": [
    "def ks_1_sample_test(data1,data2, statement, threshold=0.05):\n",
    "  x1, y1 = get_xy(data1)\n",
    "\n",
    "  n = len(data2)\n",
    "\n",
    "  diff=[]\n",
    "  for i in range(n):\n",
    "    diff.append( np.absolute( y1[i] - data2[i]  ) )\n",
    "\n",
    "  max_diff = np.max(diff)\n",
    "\n",
    "  max_ind = np.argmax(diff)\n",
    "\n",
    "  if max_diff > threshold:\n",
    "    print(f\"Max value = {max_diff} > C: {threshold}, We reject H0: \"+statement)\n",
    "  else:\n",
    "    print(f\"Max value = {max_diff} <= C: {threshold}, We reject H0: \"+statement)"
   ]
  },
  {
   "cell_type": "code",
   "execution_count": 34,
   "metadata": {},
   "outputs": [],
   "source": [
    "mean_md_confirmed = np.mean(data['MD confirmed'].values)\n",
    "mean_md_deaths = np.mean(data['MD deaths'].values)"
   ]
  },
  {
   "cell_type": "markdown",
   "metadata": {},
   "source": [
    "## Poissons Distribution"
   ]
  },
  {
   "cell_type": "code",
   "execution_count": 35,
   "metadata": {},
   "outputs": [],
   "source": [
    "def calc_poisson(param, x):\n",
    "  return stats.poisson.cdf(x, param)"
   ]
  },
  {
   "cell_type": "code",
   "execution_count": 36,
   "metadata": {},
   "outputs": [
    {
     "name": "stdout",
     "output_type": "stream",
     "text": [
      "Max value = 0.999999999999997 > C: 0.05, We reject H0: ME confirmed cases follow poisson distrubtion\n"
     ]
    }
   ],
   "source": [
    "x1, y1 = get_xy(data['ME confirmed'].values)\n",
    "val = calc_poisson(mean_md_confirmed, x1)\n",
    "ks_1_sample_test(data['ME confirmed'].values, val, \"ME confirmed cases follow poisson distrubtion\")"
   ]
  },
  {
   "cell_type": "markdown",
   "metadata": {},
   "source": [
    "## Result:\n",
    "\n",
    "#### Max value = 0.9999999999999999 > C: 0.05, We reject H0: The ME confirmed cases follow poisson distrubtion"
   ]
  },
  {
   "cell_type": "code",
   "execution_count": 37,
   "metadata": {},
   "outputs": [
    {
     "name": "stdout",
     "output_type": "stream",
     "text": [
      "Max value = 0.9951600652922576 > C: 0.05, We reject H0: ME deaths follow poisson distrubtion\n"
     ]
    }
   ],
   "source": [
    "x1, y1 = get_xy(data['ME deaths'].values)\n",
    "val = calc_poisson(mean_md_deaths, x1)\n",
    "ks_1_sample_test(data['ME deaths'].values, val, \"ME deaths follow poisson distrubtion\")"
   ]
  },
  {
   "cell_type": "markdown",
   "metadata": {},
   "source": [
    "## Result:\n",
    "#### Max value = 0.9951600652922576 > C: 0.05, We reject H0: The deaths in ME follow poisson distrubtion"
   ]
  },
  {
   "cell_type": "markdown",
   "metadata": {},
   "source": [
    "## Geometric Distribution"
   ]
  },
  {
   "cell_type": "code",
   "execution_count": 38,
   "metadata": {},
   "outputs": [],
   "source": [
    "def calc_geometric(param, x):\n",
    "  return stats.geom.cdf(x, param)"
   ]
  },
  {
   "cell_type": "code",
   "execution_count": 39,
   "metadata": {},
   "outputs": [
    {
     "name": "stdout",
     "output_type": "stream",
     "text": [
      "Max value = 0.9985345274461799 > C: 0.05, We reject H0: ME confirmed cases follow geometric distrubtion\n"
     ]
    }
   ],
   "source": [
    "x1, y1 = get_xy(data['ME confirmed'].values)\n",
    "val = calc_poisson(1/mean_md_confirmed, x1)\n",
    "ks_1_sample_test(data['ME confirmed'].values, val, \"ME confirmed cases follow geometric distrubtion\")"
   ]
  },
  {
   "cell_type": "markdown",
   "metadata": {},
   "source": [
    "## Result:\n",
    "\n",
    "#### Max value = 0.9985345274461799 > C: 0.05, We reject H0: ME confirmed cases follow geometric distrubtion"
   ]
  },
  {
   "cell_type": "code",
   "execution_count": 40,
   "metadata": {},
   "outputs": [
    {
     "name": "stdout",
     "output_type": "stream",
     "text": [
      "Max value = 0.9319897739321851 > C: 0.05, We reject H0: The ME deaths follow geometric distrubtion\n"
     ]
    }
   ],
   "source": [
    "x1, y1 = get_xy(data['ME deaths'].values)\n",
    "val = calc_poisson(1/mean_md_deaths, x1)\n",
    "ks_1_sample_test(data['ME deaths'].values, val, \"The ME deaths follow geometric distrubtion\")"
   ]
  },
  {
   "cell_type": "markdown",
   "metadata": {},
   "source": [
    "## Result:\n",
    "\n",
    "#### Max value = 0.9319897739321851 > C: 0.05, We reject H0: The ME deaths follow geometric distrubtion"
   ]
  },
  {
   "cell_type": "markdown",
   "metadata": {},
   "source": [
    "## Binomial Distribution"
   ]
  },
  {
   "cell_type": "code",
   "execution_count": 41,
   "metadata": {},
   "outputs": [],
   "source": [
    "def calc_binomial(n, p, x):\n",
    "    ans = stats.binom.cdf(x, n, p)\n",
    "    ans[np.isnan(ans)] = stats.binom.cdf(0,n,p)\n",
    "    return ans"
   ]
  },
  {
   "cell_type": "code",
   "execution_count": 42,
   "metadata": {},
   "outputs": [
    {
     "name": "stdout",
     "output_type": "stream",
     "text": [
      "Max value = 1.0 > C: 0.05, We reject H0: ME cases follow binomial distrubtion\n"
     ]
    }
   ],
   "source": [
    "var_md_confirmed = np.var(data['MD confirmed'].values)\n",
    "n = (mean_md_confirmed * mean_md_confirmed)/(mean_md_confirmed - var_md_confirmed)\n",
    "p = mean_md_confirmed/n\n",
    "\n",
    "x1, y1 = get_xy(data['ME confirmed'].values)\n",
    "val = calc_binomial(n, p, x1)\n",
    "ks_1_sample_test(data['ME confirmed'].values, val, \"ME cases follow binomial distrubtion\")"
   ]
  },
  {
   "cell_type": "markdown",
   "metadata": {},
   "source": [
    "## Result\n",
    "#### Max value = 1.0 > C: 0.05, We reject H0: ME cases follow binomial distrubtion"
   ]
  },
  {
   "cell_type": "code",
   "execution_count": 43,
   "metadata": {},
   "outputs": [
    {
     "name": "stdout",
     "output_type": "stream",
     "text": [
      "Max value = 1.0 > C: 0.05, We reject H0: The ME deaths follow binomial distrubtion\n"
     ]
    }
   ],
   "source": [
    "var_md_deaths = np.var(data['MD deaths'].values)\n",
    "n = (mean_md_deaths * mean_md_deaths)/(mean_md_deaths - var_md_deaths)\n",
    "p = mean_md_deaths/n\n",
    "\n",
    "x1, y1 = get_xy(data['ME deaths'].values)\n",
    "val = calc_binomial(n, p, x1)\n",
    "ks_1_sample_test(data['ME deaths'].values, val, \"The ME deaths follow binomial distrubtion\")"
   ]
  },
  {
   "cell_type": "markdown",
   "metadata": {},
   "source": [
    "## Result\n",
    "#### Max value = 1.0 > C: 0.05, We reject H0: The ME deaths follow binomial distrubtion"
   ]
  },
  {
   "cell_type": "markdown",
   "metadata": {},
   "source": [
    "## Permutation Test"
   ]
  },
  {
   "cell_type": "code",
   "execution_count": 44,
   "metadata": {},
   "outputs": [],
   "source": [
    "def permutation_test(X, Y, n=1000, threshold=0.05):\n",
    "  T_obs = abs(np.mean(X) - np.mean(Y))\n",
    "  xy = np.append(X,Y)\n",
    "  p_value = 0.0\n",
    "  T = []\n",
    "  for i in range(n):\n",
    "    permutation = np.random.permutation(xy)\n",
    "    X1 = permutation[:len(X)]\n",
    "    Y1 = permutation[len(X):]\n",
    "    Ti = abs(np.mean(X1) - np.mean(Y1))\n",
    "    T.append(Ti)\n",
    "\n",
    "  T = np.array(T)\n",
    "  # p_value = p_value/float(np.math.factorial(n))\n",
    "  p_value = np.sum(T>T_obs)/len(T)\n",
    "  print(\"The p-value is: \", p_value)\n",
    "  if (p_value <= threshold):\n",
    "    print(\"==> Reject the Null Hypothesis\")\n",
    "  else:\n",
    "    print(\"==> Accept the Null Hypothesis\")"
   ]
  },
  {
   "cell_type": "code",
   "execution_count": 45,
   "metadata": {},
   "outputs": [
    {
     "name": "stdout",
     "output_type": "stream",
     "text": [
      "-----------------------------------------------------------------------------------------------------\n",
      "H0: MD confirmed cases and ME confirmed cases have the same distribution.\n",
      "The p-value is:  0.0\n",
      "==> Reject the Null Hypothesis\n",
      "-----------------------------------------------------------------------------------------------------\n",
      "H0: MD deaths and ME deaths have the same ditribution.\n",
      "The p-value is:  0.0\n",
      "==> Reject the Null Hypothesis\n"
     ]
    }
   ],
   "source": [
    "# PERMUTATION TEST: Hypotheses and Results\n",
    "x1 = data['MD confirmed'].values\n",
    "x2 = data['ME confirmed'].values\n",
    "\n",
    "y1=data['MD deaths'].values\n",
    "y2=data['ME deaths'].values\n",
    "# print(\"--- PERMUTATION TEST ---\")\n",
    "print(\"-----------------------------------------------------------------------------------------------------\")\n",
    "print(\"H0: MD confirmed cases and ME confirmed cases have the same distribution.\")\n",
    "permutation_test(x1,x2)\n",
    "print(\"-----------------------------------------------------------------------------------------------------\")\n",
    "print(\"H0: MD deaths and ME deaths have the same ditribution.\")\n",
    "permutation_test(y1,y2)"
   ]
  },
  {
   "cell_type": "markdown",
   "metadata": {},
   "source": [
    "## Result \n",
    "#### H0: MD confirmed cases and ME confirmed cases have the same distribution.\n",
    "#### The p-value is:  0.0\n",
    "#### Reject the Null Hypothesis\n",
    "-----------------------------------------------------------------------------------------------------\n",
    "#### H0: MD deaths and ME deaths have the same ditribution.\n",
    "#### The p-value is:  0.006\n",
    "#### Reject the Null Hypothesis\n"
   ]
  },
  {
   "cell_type": "markdown",
   "metadata": {},
   "source": [
    "# Task 2d\n",
    "\n",
    "For this task, sum up the daily stats (cases and deaths) from both states. Assume day 1 is June 1st 2020. Assume \n",
    "the combined daily deaths are Poisson distributed with parameter λ. Assume an Exponential prior (with mean β) on λ.\n",
    "Assume β = λMME where the MME is found using the first four weeks data (so the first 28 days of June 2020) as the \n",
    "sample data. Now, use the fifth week’s data (June 29 to July 5) to obtain the posterior for λ via Bayesian inference.\n",
    "Then, use sixth week’s data to obtain the new posterior, using prior as posterior after week 5. Repeat till the end \n",
    "of week 8 (that is, repeat till you have posterior after using 8th week’s data). Plot all posterior distributions on \n",
    "one graph. Report the MAP for all posteriors. \n"
   ]
  },
  {
   "cell_type": "code",
   "execution_count": 46,
   "metadata": {},
   "outputs": [],
   "source": [
    "df = data\n",
    "initial = df[(df.Date>'2020-05-31') & (df.Date<'2020-06-29')]\n",
    "comb_deaths =np.concatenate([initial['MD deaths'], initial['ME deaths']])\n",
    "dates = [['2020-06-29', '2020-07-06'],['2020-07-06','2020-07-13'],['2020-07-13','2020-07-20'],['2020-07-20','2020-07-27']]\n"
   ]
  },
  {
   "cell_type": "code",
   "execution_count": 47,
   "metadata": {},
   "outputs": [],
   "source": [
    "gamma_p = []\n",
    "for start,end in dates:\n",
    "  data = df[(df.Date>start) & (df.Date<end)]\n",
    "  comb_deaths =np.concatenate([data['MD deaths'], data['ME deaths']])\n",
    "  a = len(comb_deaths) + 1\n",
    "  b = np.sum(comb_deaths) + 1\n",
    "  gamma_p.append([a,b])\n"
   ]
  },
  {
   "cell_type": "code",
   "execution_count": 48,
   "metadata": {},
   "outputs": [
    {
     "data": {
      "image/png": "[encoded data removed]",
      "text/plain": [
       "<Figure size 432x288 with 1 Axes>"
      ]
     },
     "metadata": {
      "needs_background": "light"
     },
     "output_type": "display_data"
    }
   ],
   "source": [
    "from scipy.stats import gamma\n",
    "\n",
    "for i,(a,b) in enumerate(gamma_p):\n",
    "  x = np.linspace(gamma.ppf(0.01, a, scale=1/b),\n",
    "              gamma.ppf(0.99, a, scale=1/b), 100)\n",
    "  plt.plot(x, gamma.pdf(x, a, scale=1/b), label=f'{i} MAP: {(a-1)/b}')\n",
    "\n",
    "plt.legend()\n",
    "plt.show()"
   ]
  },
  {
   "cell_type": "markdown",
   "metadata": {},
   "source": [
    "**The above graphs are posterior plots for combined deaths for both the states, we can see as the data increases, variance decreases and it becomes more confident and converges to a particular value (in this case close to 0.18).**"
   ]
  },
  {
   "cell_type": "code",
   "execution_count": 49,
   "metadata": {},
   "outputs": [],
   "source": [
    "comb_confimred =np.concatenate([initial['MD confirmed'], initial['ME confirmed']])"
   ]
  },
  {
   "cell_type": "code",
   "execution_count": 50,
   "metadata": {},
   "outputs": [],
   "source": [
    "gamma_p = []\n",
    "for start,end in dates:\n",
    "  data = df[(df.Date>start) & (df.Date<end)]\n",
    "  comb_confirmed =np.concatenate([data['MD confirmed'], data['ME confirmed']])\n",
    "  a = len(comb_confirmed) + 1\n",
    "  b = np.sum(comb_confirmed) + 1\n",
    "  gamma_p.append([a,b])"
   ]
  },
  {
   "cell_type": "code",
   "execution_count": 51,
   "metadata": {},
   "outputs": [
    {
     "data": {
      "image/png": "[encoded data removed]",
      "text/plain": [
       "<Figure size 432x288 with 1 Axes>"
      ]
     },
     "metadata": {
      "needs_background": "light"
     },
     "output_type": "display_data"
    }
   ],
   "source": [
    "from scipy.stats import gamma\n",
    "\n",
    "for i,(a,b) in enumerate(gamma_p):\n",
    "  x = np.linspace(gamma.ppf(0.01, a, scale=1/b),\n",
    "              gamma.ppf(0.99, a, scale=1/b), 100)\n",
    "  plt.plot(x, gamma.pdf(x, a, scale=1/b), label=f'{i} MAP: {(a-1)/b}')\n",
    "\n",
    "plt.legend()\n",
    "plt.show()"
   ]
  },
  {
   "cell_type": "markdown",
   "metadata": {},
   "source": [
    "**The above graphs are posterior plots for combined deaths for both the states, we can see as the data increases, variance decreases and it becomes more confident and converges to a particular value (in this case close to 0.18).**"
   ]
  },
  {
   "cell_type": "code",
   "execution_count": null,
   "metadata": {},
   "outputs": [],
   "source": []
  }
 ],
 "metadata": {
  "kernelspec": {
   "display_name": "Python 3",
   "language": "python",
   "name": "python3"
  },
  "language_info": {
   "codemirror_mode": {
    "name": "ipython",
    "version": 3
   },
   "file_extension": ".py",
   "mimetype": "text/x-python",
   "name": "python",
   "nbconvert_exporter": "python",
   "pygments_lexer": "ipython3",
   "version": "3.8.5"
  }
 },
 "nbformat": 4,
 "nbformat_minor": 4
}
